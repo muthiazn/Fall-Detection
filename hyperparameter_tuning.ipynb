{
 "cells": [
  {
   "cell_type": "code",
   "execution_count": 1,
   "metadata": {},
   "outputs": [],
   "source": [
    "import numpy as np\n",
    "import pandas as pd\n",
    "\n",
    "from sklearn.model_selection import train_test_split\n",
    "from sklearn.pipeline import Pipeline\n",
    "from sklearn.compose import ColumnTransformer\n",
    "\n",
    "from jcopml.pipeline import num_pipe, cat_pipe\n",
    "from jcopml.feature_importance import mean_score_decrease"
   ]
  },
  {
   "cell_type": "code",
   "execution_count": 2,
   "metadata": {},
   "outputs": [
    {
     "data": {
      "text/html": [
       "<div>\n",
       "<style scoped>\n",
       "    .dataframe tbody tr th:only-of-type {\n",
       "        vertical-align: middle;\n",
       "    }\n",
       "\n",
       "    .dataframe tbody tr th {\n",
       "        vertical-align: top;\n",
       "    }\n",
       "\n",
       "    .dataframe thead th {\n",
       "        text-align: right;\n",
       "    }\n",
       "</style>\n",
       "<table border=\"1\" class=\"dataframe\">\n",
       "  <thead>\n",
       "    <tr style=\"text-align: right;\">\n",
       "      <th></th>\n",
       "      <th>aX</th>\n",
       "      <th>aY</th>\n",
       "      <th>aZ</th>\n",
       "      <th>aSqrt</th>\n",
       "      <th>gX</th>\n",
       "      <th>gY</th>\n",
       "      <th>gZ</th>\n",
       "      <th>mDirection</th>\n",
       "      <th>mX</th>\n",
       "      <th>mY</th>\n",
       "      <th>mZ</th>\n",
       "      <th>label</th>\n",
       "    </tr>\n",
       "  </thead>\n",
       "  <tbody>\n",
       "    <tr>\n",
       "      <th>0</th>\n",
       "      <td>-16.93</td>\n",
       "      <td>-0.21</td>\n",
       "      <td>0.05</td>\n",
       "      <td>1.00</td>\n",
       "      <td>1.10</td>\n",
       "      <td>1.95</td>\n",
       "      <td>-0.37</td>\n",
       "      <td>-25.83</td>\n",
       "      <td>-22.56</td>\n",
       "      <td>46.62</td>\n",
       "      <td>34.57</td>\n",
       "      <td>0</td>\n",
       "    </tr>\n",
       "    <tr>\n",
       "      <th>1</th>\n",
       "      <td>-14.94</td>\n",
       "      <td>-0.34</td>\n",
       "      <td>-0.07</td>\n",
       "      <td>1.00</td>\n",
       "      <td>0.73</td>\n",
       "      <td>1.77</td>\n",
       "      <td>-0.31</td>\n",
       "      <td>-129.99</td>\n",
       "      <td>-14.25</td>\n",
       "      <td>-11.95</td>\n",
       "      <td>-85.27</td>\n",
       "      <td>0</td>\n",
       "    </tr>\n",
       "    <tr>\n",
       "      <th>2</th>\n",
       "      <td>-15.35</td>\n",
       "      <td>-0.88</td>\n",
       "      <td>0.41</td>\n",
       "      <td>0.95</td>\n",
       "      <td>-28.81</td>\n",
       "      <td>38.39</td>\n",
       "      <td>-22.64</td>\n",
       "      <td>96.70</td>\n",
       "      <td>71.25</td>\n",
       "      <td>-8.37</td>\n",
       "      <td>-58.77</td>\n",
       "      <td>0</td>\n",
       "    </tr>\n",
       "    <tr>\n",
       "      <th>3</th>\n",
       "      <td>-16.30</td>\n",
       "      <td>-0.66</td>\n",
       "      <td>-0.51</td>\n",
       "      <td>0.78</td>\n",
       "      <td>-13.98</td>\n",
       "      <td>-282.29</td>\n",
       "      <td>-135.07</td>\n",
       "      <td>-24.01</td>\n",
       "      <td>-30.88</td>\n",
       "      <td>69.33</td>\n",
       "      <td>-59.92</td>\n",
       "      <td>0</td>\n",
       "    </tr>\n",
       "    <tr>\n",
       "      <th>4</th>\n",
       "      <td>-15.69</td>\n",
       "      <td>-1.10</td>\n",
       "      <td>0.29</td>\n",
       "      <td>0.94</td>\n",
       "      <td>19.41</td>\n",
       "      <td>127.38</td>\n",
       "      <td>108.09</td>\n",
       "      <td>27.10</td>\n",
       "      <td>40.38</td>\n",
       "      <td>78.89</td>\n",
       "      <td>-31.11</td>\n",
       "      <td>0</td>\n",
       "    </tr>\n",
       "  </tbody>\n",
       "</table>\n",
       "</div>"
      ],
      "text/plain": [
       "      aX    aY    aZ  aSqrt     gX      gY      gZ  mDirection     mX     mY  \\\n",
       "0 -16.93 -0.21  0.05   1.00   1.10    1.95   -0.37      -25.83 -22.56  46.62   \n",
       "1 -14.94 -0.34 -0.07   1.00   0.73    1.77   -0.31     -129.99 -14.25 -11.95   \n",
       "2 -15.35 -0.88  0.41   0.95 -28.81   38.39  -22.64       96.70  71.25  -8.37   \n",
       "3 -16.30 -0.66 -0.51   0.78 -13.98 -282.29 -135.07      -24.01 -30.88  69.33   \n",
       "4 -15.69 -1.10  0.29   0.94  19.41  127.38  108.09       27.10  40.38  78.89   \n",
       "\n",
       "      mZ  label  \n",
       "0  34.57      0  \n",
       "1 -85.27      0  \n",
       "2 -58.77      0  \n",
       "3 -59.92      0  \n",
       "4 -31.11      0  "
      ]
     },
     "execution_count": 2,
     "metadata": {},
     "output_type": "execute_result"
    }
   ],
   "source": [
    "df1 = pd.read_csv(\"./data_1_undersampling.csv\")\n",
    "df1.drop(columns=['index'], inplace=True)\n",
    "df1.head()"
   ]
  },
  {
   "cell_type": "code",
   "execution_count": 3,
   "metadata": {},
   "outputs": [
    {
     "data": {
      "text/html": [
       "<div>\n",
       "<style scoped>\n",
       "    .dataframe tbody tr th:only-of-type {\n",
       "        vertical-align: middle;\n",
       "    }\n",
       "\n",
       "    .dataframe tbody tr th {\n",
       "        vertical-align: top;\n",
       "    }\n",
       "\n",
       "    .dataframe thead th {\n",
       "        text-align: right;\n",
       "    }\n",
       "</style>\n",
       "<table border=\"1\" class=\"dataframe\">\n",
       "  <thead>\n",
       "    <tr style=\"text-align: right;\">\n",
       "      <th></th>\n",
       "      <th>aX</th>\n",
       "      <th>aY</th>\n",
       "      <th>aZ</th>\n",
       "      <th>aSqrt</th>\n",
       "      <th>gX</th>\n",
       "      <th>gY</th>\n",
       "      <th>gZ</th>\n",
       "      <th>mDirection</th>\n",
       "      <th>mX</th>\n",
       "      <th>mY</th>\n",
       "      <th>mZ</th>\n",
       "      <th>label</th>\n",
       "    </tr>\n",
       "  </thead>\n",
       "  <tbody>\n",
       "    <tr>\n",
       "      <th>0</th>\n",
       "      <td>-15.57</td>\n",
       "      <td>-0.19</td>\n",
       "      <td>1.06</td>\n",
       "      <td>1.09</td>\n",
       "      <td>-0.45</td>\n",
       "      <td>0.87</td>\n",
       "      <td>0.94</td>\n",
       "      <td>-109.20</td>\n",
       "      <td>-46.37</td>\n",
       "      <td>-16.15</td>\n",
       "      <td>11.21</td>\n",
       "      <td>0</td>\n",
       "    </tr>\n",
       "    <tr>\n",
       "      <th>1</th>\n",
       "      <td>-15.57</td>\n",
       "      <td>-0.19</td>\n",
       "      <td>1.07</td>\n",
       "      <td>1.10</td>\n",
       "      <td>-0.39</td>\n",
       "      <td>1.24</td>\n",
       "      <td>0.98</td>\n",
       "      <td>-109.98</td>\n",
       "      <td>-45.57</td>\n",
       "      <td>-16.55</td>\n",
       "      <td>11.21</td>\n",
       "      <td>0</td>\n",
       "    </tr>\n",
       "    <tr>\n",
       "      <th>2</th>\n",
       "      <td>-15.62</td>\n",
       "      <td>-0.19</td>\n",
       "      <td>1.04</td>\n",
       "      <td>1.06</td>\n",
       "      <td>1.85</td>\n",
       "      <td>-3.76</td>\n",
       "      <td>3.74</td>\n",
       "      <td>-109.83</td>\n",
       "      <td>-44.77</td>\n",
       "      <td>-16.15</td>\n",
       "      <td>13.92</td>\n",
       "      <td>0</td>\n",
       "    </tr>\n",
       "    <tr>\n",
       "      <th>3</th>\n",
       "      <td>-15.64</td>\n",
       "      <td>-0.17</td>\n",
       "      <td>1.05</td>\n",
       "      <td>1.06</td>\n",
       "      <td>1.42</td>\n",
       "      <td>-3.28</td>\n",
       "      <td>4.05</td>\n",
       "      <td>-108.91</td>\n",
       "      <td>-45.97</td>\n",
       "      <td>-15.74</td>\n",
       "      <td>14.31</td>\n",
       "      <td>0</td>\n",
       "    </tr>\n",
       "    <tr>\n",
       "      <th>4</th>\n",
       "      <td>-15.57</td>\n",
       "      <td>-0.19</td>\n",
       "      <td>1.07</td>\n",
       "      <td>1.10</td>\n",
       "      <td>-0.28</td>\n",
       "      <td>-0.63</td>\n",
       "      <td>-0.04</td>\n",
       "      <td>-109.54</td>\n",
       "      <td>-45.57</td>\n",
       "      <td>-16.15</td>\n",
       "      <td>12.76</td>\n",
       "      <td>0</td>\n",
       "    </tr>\n",
       "  </tbody>\n",
       "</table>\n",
       "</div>"
      ],
      "text/plain": [
       "      aX    aY    aZ  aSqrt    gX    gY    gZ  mDirection     mX     mY  \\\n",
       "0 -15.57 -0.19  1.06   1.09 -0.45  0.87  0.94     -109.20 -46.37 -16.15   \n",
       "1 -15.57 -0.19  1.07   1.10 -0.39  1.24  0.98     -109.98 -45.57 -16.55   \n",
       "2 -15.62 -0.19  1.04   1.06  1.85 -3.76  3.74     -109.83 -44.77 -16.15   \n",
       "3 -15.64 -0.17  1.05   1.06  1.42 -3.28  4.05     -108.91 -45.97 -15.74   \n",
       "4 -15.57 -0.19  1.07   1.10 -0.28 -0.63 -0.04     -109.54 -45.57 -16.15   \n",
       "\n",
       "      mZ  label  \n",
       "0  11.21      0  \n",
       "1  11.21      0  \n",
       "2  13.92      0  \n",
       "3  14.31      0  \n",
       "4  12.76      0  "
      ]
     },
     "execution_count": 3,
     "metadata": {},
     "output_type": "execute_result"
    }
   ],
   "source": [
    "df2 = pd.read_csv(\"./nol_tambahan.csv\")\n",
    "df2.drop(columns=['Reading ID', 'Day', 'YYYY/MM/DD', 'hh:mm:ss', 'probability'], inplace=True)\n",
    "df2.head()"
   ]
  },
  {
   "cell_type": "code",
   "execution_count": 4,
   "metadata": {},
   "outputs": [
    {
     "data": {
      "text/html": [
       "<div>\n",
       "<style scoped>\n",
       "    .dataframe tbody tr th:only-of-type {\n",
       "        vertical-align: middle;\n",
       "    }\n",
       "\n",
       "    .dataframe tbody tr th {\n",
       "        vertical-align: top;\n",
       "    }\n",
       "\n",
       "    .dataframe thead th {\n",
       "        text-align: right;\n",
       "    }\n",
       "</style>\n",
       "<table border=\"1\" class=\"dataframe\">\n",
       "  <thead>\n",
       "    <tr style=\"text-align: right;\">\n",
       "      <th></th>\n",
       "      <th>aX</th>\n",
       "      <th>aY</th>\n",
       "      <th>aZ</th>\n",
       "      <th>aSqrt</th>\n",
       "      <th>gX</th>\n",
       "      <th>gY</th>\n",
       "      <th>gZ</th>\n",
       "      <th>mDirection</th>\n",
       "      <th>mX</th>\n",
       "      <th>mY</th>\n",
       "      <th>mZ</th>\n",
       "      <th>label</th>\n",
       "    </tr>\n",
       "  </thead>\n",
       "  <tbody>\n",
       "    <tr>\n",
       "      <th>70</th>\n",
       "      <td>-15.97</td>\n",
       "      <td>-0.26</td>\n",
       "      <td>-1.00</td>\n",
       "      <td>1.03</td>\n",
       "      <td>0.61</td>\n",
       "      <td>2.50</td>\n",
       "      <td>9.09</td>\n",
       "      <td>-15.30</td>\n",
       "      <td>-22.56</td>\n",
       "      <td>82.48</td>\n",
       "      <td>-78.36</td>\n",
       "      <td>0</td>\n",
       "    </tr>\n",
       "    <tr>\n",
       "      <th>71</th>\n",
       "      <td>-15.97</td>\n",
       "      <td>-0.28</td>\n",
       "      <td>-0.99</td>\n",
       "      <td>1.03</td>\n",
       "      <td>4.70</td>\n",
       "      <td>1.46</td>\n",
       "      <td>-0.12</td>\n",
       "      <td>-13.16</td>\n",
       "      <td>-19.00</td>\n",
       "      <td>81.28</td>\n",
       "      <td>-81.82</td>\n",
       "      <td>0</td>\n",
       "    </tr>\n",
       "    <tr>\n",
       "      <th>72</th>\n",
       "      <td>-15.97</td>\n",
       "      <td>-0.28</td>\n",
       "      <td>-0.99</td>\n",
       "      <td>1.02</td>\n",
       "      <td>1.16</td>\n",
       "      <td>1.95</td>\n",
       "      <td>-0.18</td>\n",
       "      <td>-13.56</td>\n",
       "      <td>-20.19</td>\n",
       "      <td>83.67</td>\n",
       "      <td>-77.21</td>\n",
       "      <td>0</td>\n",
       "    </tr>\n",
       "    <tr>\n",
       "      <th>73</th>\n",
       "      <td>-15.97</td>\n",
       "      <td>-0.28</td>\n",
       "      <td>-1.00</td>\n",
       "      <td>1.03</td>\n",
       "      <td>1.59</td>\n",
       "      <td>2.01</td>\n",
       "      <td>-0.24</td>\n",
       "      <td>-14.33</td>\n",
       "      <td>-21.37</td>\n",
       "      <td>83.67</td>\n",
       "      <td>-80.66</td>\n",
       "      <td>0</td>\n",
       "    </tr>\n",
       "    <tr>\n",
       "      <th>74</th>\n",
       "      <td>-15.98</td>\n",
       "      <td>-0.28</td>\n",
       "      <td>-1.00</td>\n",
       "      <td>1.03</td>\n",
       "      <td>1.22</td>\n",
       "      <td>1.95</td>\n",
       "      <td>-0.37</td>\n",
       "      <td>-14.94</td>\n",
       "      <td>-21.37</td>\n",
       "      <td>80.09</td>\n",
       "      <td>-79.51</td>\n",
       "      <td>0</td>\n",
       "    </tr>\n",
       "  </tbody>\n",
       "</table>\n",
       "</div>"
      ],
      "text/plain": [
       "       aX    aY    aZ  aSqrt    gX    gY    gZ  mDirection     mX     mY  \\\n",
       "70 -15.97 -0.26 -1.00   1.03  0.61  2.50  9.09      -15.30 -22.56  82.48   \n",
       "71 -15.97 -0.28 -0.99   1.03  4.70  1.46 -0.12      -13.16 -19.00  81.28   \n",
       "72 -15.97 -0.28 -0.99   1.02  1.16  1.95 -0.18      -13.56 -20.19  83.67   \n",
       "73 -15.97 -0.28 -1.00   1.03  1.59  2.01 -0.24      -14.33 -21.37  83.67   \n",
       "74 -15.98 -0.28 -1.00   1.03  1.22  1.95 -0.37      -14.94 -21.37  80.09   \n",
       "\n",
       "       mZ  label  \n",
       "70 -78.36      0  \n",
       "71 -81.82      0  \n",
       "72 -77.21      0  \n",
       "73 -80.66      0  \n",
       "74 -79.51      0  "
      ]
     },
     "execution_count": 4,
     "metadata": {},
     "output_type": "execute_result"
    }
   ],
   "source": [
    "df3 = pd.read_csv(\"./nol_tambahan5.txt\")\n",
    "df3.drop(columns=['Reading ID', 'Day', 'YYYY/MM/DD', 'hh:mm:ss', 'probability'], inplace=True)\n",
    "df3.head()"
   ]
  },
  {
   "cell_type": "code",
   "execution_count": 5,
   "metadata": {},
   "outputs": [],
   "source": [
    "df = pd.concat([df1, df2, df3])"
   ]
  },
  {
   "cell_type": "code",
   "execution_count": 6,
   "metadata": {},
   "outputs": [
    {
     "data": {
      "text/html": [
       "<div>\n",
       "<style scoped>\n",
       "    .dataframe tbody tr th:only-of-type {\n",
       "        vertical-align: middle;\n",
       "    }\n",
       "\n",
       "    .dataframe tbody tr th {\n",
       "        vertical-align: top;\n",
       "    }\n",
       "\n",
       "    .dataframe thead th {\n",
       "        text-align: right;\n",
       "    }\n",
       "</style>\n",
       "<table border=\"1\" class=\"dataframe\">\n",
       "  <thead>\n",
       "    <tr style=\"text-align: right;\">\n",
       "      <th></th>\n",
       "      <th>aX</th>\n",
       "      <th>aY</th>\n",
       "      <th>aZ</th>\n",
       "      <th>aSqrt</th>\n",
       "      <th>gX</th>\n",
       "      <th>gY</th>\n",
       "      <th>gZ</th>\n",
       "      <th>mDirection</th>\n",
       "      <th>mX</th>\n",
       "      <th>mY</th>\n",
       "      <th>mZ</th>\n",
       "      <th>label</th>\n",
       "    </tr>\n",
       "  </thead>\n",
       "  <tbody>\n",
       "    <tr>\n",
       "      <th>0</th>\n",
       "      <td>-16.93</td>\n",
       "      <td>-0.21</td>\n",
       "      <td>0.05</td>\n",
       "      <td>1.00</td>\n",
       "      <td>1.10</td>\n",
       "      <td>1.95</td>\n",
       "      <td>-0.37</td>\n",
       "      <td>-25.83</td>\n",
       "      <td>-22.56</td>\n",
       "      <td>46.62</td>\n",
       "      <td>34.57</td>\n",
       "      <td>0</td>\n",
       "    </tr>\n",
       "    <tr>\n",
       "      <th>1</th>\n",
       "      <td>-14.94</td>\n",
       "      <td>-0.34</td>\n",
       "      <td>-0.07</td>\n",
       "      <td>1.00</td>\n",
       "      <td>0.73</td>\n",
       "      <td>1.77</td>\n",
       "      <td>-0.31</td>\n",
       "      <td>-129.99</td>\n",
       "      <td>-14.25</td>\n",
       "      <td>-11.95</td>\n",
       "      <td>-85.27</td>\n",
       "      <td>0</td>\n",
       "    </tr>\n",
       "    <tr>\n",
       "      <th>2</th>\n",
       "      <td>-15.35</td>\n",
       "      <td>-0.88</td>\n",
       "      <td>0.41</td>\n",
       "      <td>0.95</td>\n",
       "      <td>-28.81</td>\n",
       "      <td>38.39</td>\n",
       "      <td>-22.64</td>\n",
       "      <td>96.70</td>\n",
       "      <td>71.25</td>\n",
       "      <td>-8.37</td>\n",
       "      <td>-58.77</td>\n",
       "      <td>0</td>\n",
       "    </tr>\n",
       "    <tr>\n",
       "      <th>3</th>\n",
       "      <td>-16.30</td>\n",
       "      <td>-0.66</td>\n",
       "      <td>-0.51</td>\n",
       "      <td>0.78</td>\n",
       "      <td>-13.98</td>\n",
       "      <td>-282.29</td>\n",
       "      <td>-135.07</td>\n",
       "      <td>-24.01</td>\n",
       "      <td>-30.88</td>\n",
       "      <td>69.33</td>\n",
       "      <td>-59.92</td>\n",
       "      <td>0</td>\n",
       "    </tr>\n",
       "    <tr>\n",
       "      <th>4</th>\n",
       "      <td>-15.69</td>\n",
       "      <td>-1.10</td>\n",
       "      <td>0.29</td>\n",
       "      <td>0.94</td>\n",
       "      <td>19.41</td>\n",
       "      <td>127.38</td>\n",
       "      <td>108.09</td>\n",
       "      <td>27.10</td>\n",
       "      <td>40.38</td>\n",
       "      <td>78.89</td>\n",
       "      <td>-31.11</td>\n",
       "      <td>0</td>\n",
       "    </tr>\n",
       "    <tr>\n",
       "      <th>...</th>\n",
       "      <td>...</td>\n",
       "      <td>...</td>\n",
       "      <td>...</td>\n",
       "      <td>...</td>\n",
       "      <td>...</td>\n",
       "      <td>...</td>\n",
       "      <td>...</td>\n",
       "      <td>...</td>\n",
       "      <td>...</td>\n",
       "      <td>...</td>\n",
       "      <td>...</td>\n",
       "      <td>...</td>\n",
       "    </tr>\n",
       "    <tr>\n",
       "      <th>250</th>\n",
       "      <td>-15.78</td>\n",
       "      <td>-0.19</td>\n",
       "      <td>-1.24</td>\n",
       "      <td>1.28</td>\n",
       "      <td>69.70</td>\n",
       "      <td>8.85</td>\n",
       "      <td>8.79</td>\n",
       "      <td>-37.44</td>\n",
       "      <td>-43.94</td>\n",
       "      <td>57.38</td>\n",
       "      <td>-86.43</td>\n",
       "      <td>0</td>\n",
       "    </tr>\n",
       "    <tr>\n",
       "      <th>251</th>\n",
       "      <td>-15.57</td>\n",
       "      <td>-0.36</td>\n",
       "      <td>-0.02</td>\n",
       "      <td>0.38</td>\n",
       "      <td>173.03</td>\n",
       "      <td>3.91</td>\n",
       "      <td>-174.01</td>\n",
       "      <td>-86.54</td>\n",
       "      <td>-59.38</td>\n",
       "      <td>3.59</td>\n",
       "      <td>-64.53</td>\n",
       "      <td>0</td>\n",
       "    </tr>\n",
       "    <tr>\n",
       "      <th>252</th>\n",
       "      <td>-15.30</td>\n",
       "      <td>-0.52</td>\n",
       "      <td>-0.83</td>\n",
       "      <td>1.11</td>\n",
       "      <td>0.67</td>\n",
       "      <td>24.84</td>\n",
       "      <td>-69.89</td>\n",
       "      <td>175.63</td>\n",
       "      <td>4.75</td>\n",
       "      <td>-62.16</td>\n",
       "      <td>-43.79</td>\n",
       "      <td>0</td>\n",
       "    </tr>\n",
       "    <tr>\n",
       "      <th>253</th>\n",
       "      <td>-15.37</td>\n",
       "      <td>-0.39</td>\n",
       "      <td>-0.81</td>\n",
       "      <td>1.02</td>\n",
       "      <td>0.37</td>\n",
       "      <td>3.42</td>\n",
       "      <td>-0.49</td>\n",
       "      <td>175.87</td>\n",
       "      <td>4.75</td>\n",
       "      <td>-65.74</td>\n",
       "      <td>-48.40</td>\n",
       "      <td>0</td>\n",
       "    </tr>\n",
       "    <tr>\n",
       "      <th>254</th>\n",
       "      <td>-15.38</td>\n",
       "      <td>-0.39</td>\n",
       "      <td>-0.80</td>\n",
       "      <td>1.01</td>\n",
       "      <td>2.69</td>\n",
       "      <td>1.16</td>\n",
       "      <td>1.28</td>\n",
       "      <td>172.38</td>\n",
       "      <td>8.31</td>\n",
       "      <td>-62.16</td>\n",
       "      <td>-47.25</td>\n",
       "      <td>0</td>\n",
       "    </tr>\n",
       "  </tbody>\n",
       "</table>\n",
       "<p>1623 rows × 12 columns</p>\n",
       "</div>"
      ],
      "text/plain": [
       "        aX    aY    aZ  aSqrt      gX      gY      gZ  mDirection     mX  \\\n",
       "0   -16.93 -0.21  0.05   1.00    1.10    1.95   -0.37      -25.83 -22.56   \n",
       "1   -14.94 -0.34 -0.07   1.00    0.73    1.77   -0.31     -129.99 -14.25   \n",
       "2   -15.35 -0.88  0.41   0.95  -28.81   38.39  -22.64       96.70  71.25   \n",
       "3   -16.30 -0.66 -0.51   0.78  -13.98 -282.29 -135.07      -24.01 -30.88   \n",
       "4   -15.69 -1.10  0.29   0.94   19.41  127.38  108.09       27.10  40.38   \n",
       "..     ...   ...   ...    ...     ...     ...     ...         ...    ...   \n",
       "250 -15.78 -0.19 -1.24   1.28   69.70    8.85    8.79      -37.44 -43.94   \n",
       "251 -15.57 -0.36 -0.02   0.38  173.03    3.91 -174.01      -86.54 -59.38   \n",
       "252 -15.30 -0.52 -0.83   1.11    0.67   24.84  -69.89      175.63   4.75   \n",
       "253 -15.37 -0.39 -0.81   1.02    0.37    3.42   -0.49      175.87   4.75   \n",
       "254 -15.38 -0.39 -0.80   1.01    2.69    1.16    1.28      172.38   8.31   \n",
       "\n",
       "        mY     mZ  label  \n",
       "0    46.62  34.57      0  \n",
       "1   -11.95 -85.27      0  \n",
       "2    -8.37 -58.77      0  \n",
       "3    69.33 -59.92      0  \n",
       "4    78.89 -31.11      0  \n",
       "..     ...    ...    ...  \n",
       "250  57.38 -86.43      0  \n",
       "251   3.59 -64.53      0  \n",
       "252 -62.16 -43.79      0  \n",
       "253 -65.74 -48.40      0  \n",
       "254 -62.16 -47.25      0  \n",
       "\n",
       "[1623 rows x 12 columns]"
      ]
     },
     "execution_count": 6,
     "metadata": {},
     "output_type": "execute_result"
    }
   ],
   "source": [
    "df"
   ]
  },
  {
   "cell_type": "markdown",
   "metadata": {},
   "source": [
    "# Feature Engineering"
   ]
  },
  {
   "cell_type": "code",
   "execution_count": 7,
   "metadata": {},
   "outputs": [
    {
     "data": {
      "text/html": [
       "<div>\n",
       "<style scoped>\n",
       "    .dataframe tbody tr th:only-of-type {\n",
       "        vertical-align: middle;\n",
       "    }\n",
       "\n",
       "    .dataframe tbody tr th {\n",
       "        vertical-align: top;\n",
       "    }\n",
       "\n",
       "    .dataframe thead th {\n",
       "        text-align: right;\n",
       "    }\n",
       "</style>\n",
       "<table border=\"1\" class=\"dataframe\">\n",
       "  <thead>\n",
       "    <tr style=\"text-align: right;\">\n",
       "      <th></th>\n",
       "      <th>aX</th>\n",
       "      <th>aY</th>\n",
       "      <th>aZ</th>\n",
       "      <th>aSqrt</th>\n",
       "      <th>gX</th>\n",
       "      <th>gY</th>\n",
       "      <th>gZ</th>\n",
       "      <th>mDirection</th>\n",
       "      <th>mX</th>\n",
       "      <th>mY</th>\n",
       "      <th>mZ</th>\n",
       "      <th>label</th>\n",
       "    </tr>\n",
       "  </thead>\n",
       "  <tbody>\n",
       "    <tr>\n",
       "      <th>6</th>\n",
       "      <td>-15.846</td>\n",
       "      <td>-0.626</td>\n",
       "      <td>0.092</td>\n",
       "      <td>0.934</td>\n",
       "      <td>-4.310</td>\n",
       "      <td>-22.548</td>\n",
       "      <td>-9.948</td>\n",
       "      <td>-10.634</td>\n",
       "      <td>-7.362</td>\n",
       "      <td>34.902</td>\n",
       "      <td>-31.114</td>\n",
       "      <td>0.0</td>\n",
       "    </tr>\n",
       "    <tr>\n",
       "      <th>9</th>\n",
       "      <td>-15.346</td>\n",
       "      <td>-0.290</td>\n",
       "      <td>0.090</td>\n",
       "      <td>0.998</td>\n",
       "      <td>0.806</td>\n",
       "      <td>1.914</td>\n",
       "      <td>-0.132</td>\n",
       "      <td>-100.672</td>\n",
       "      <td>-48.686</td>\n",
       "      <td>-3.110</td>\n",
       "      <td>-8.528</td>\n",
       "      <td>0.0</td>\n",
       "    </tr>\n",
       "    <tr>\n",
       "      <th>12</th>\n",
       "      <td>-16.054</td>\n",
       "      <td>-0.366</td>\n",
       "      <td>0.200</td>\n",
       "      <td>1.010</td>\n",
       "      <td>-2.870</td>\n",
       "      <td>0.780</td>\n",
       "      <td>4.078</td>\n",
       "      <td>-40.688</td>\n",
       "      <td>-19.476</td>\n",
       "      <td>30.122</td>\n",
       "      <td>-9.218</td>\n",
       "      <td>0.0</td>\n",
       "    </tr>\n",
       "    <tr>\n",
       "      <th>15</th>\n",
       "      <td>-16.764</td>\n",
       "      <td>-0.400</td>\n",
       "      <td>0.120</td>\n",
       "      <td>0.942</td>\n",
       "      <td>-28.126</td>\n",
       "      <td>22.386</td>\n",
       "      <td>-30.066</td>\n",
       "      <td>-8.500</td>\n",
       "      <td>-10.212</td>\n",
       "      <td>67.178</td>\n",
       "      <td>-54.392</td>\n",
       "      <td>0.0</td>\n",
       "    </tr>\n",
       "    <tr>\n",
       "      <th>18</th>\n",
       "      <td>-15.908</td>\n",
       "      <td>-0.194</td>\n",
       "      <td>-0.042</td>\n",
       "      <td>0.888</td>\n",
       "      <td>-6.238</td>\n",
       "      <td>48.756</td>\n",
       "      <td>-3.980</td>\n",
       "      <td>-52.486</td>\n",
       "      <td>-28.972</td>\n",
       "      <td>33.230</td>\n",
       "      <td>-27.426</td>\n",
       "      <td>0.0</td>\n",
       "    </tr>\n",
       "    <tr>\n",
       "      <th>...</th>\n",
       "      <td>...</td>\n",
       "      <td>...</td>\n",
       "      <td>...</td>\n",
       "      <td>...</td>\n",
       "      <td>...</td>\n",
       "      <td>...</td>\n",
       "      <td>...</td>\n",
       "      <td>...</td>\n",
       "      <td>...</td>\n",
       "      <td>...</td>\n",
       "      <td>...</td>\n",
       "      <td>...</td>\n",
       "    </tr>\n",
       "    <tr>\n",
       "      <th>240</th>\n",
       "      <td>-15.540</td>\n",
       "      <td>-0.282</td>\n",
       "      <td>-0.220</td>\n",
       "      <td>0.996</td>\n",
       "      <td>-8.130</td>\n",
       "      <td>41.554</td>\n",
       "      <td>-6.946</td>\n",
       "      <td>-78.762</td>\n",
       "      <td>-28.264</td>\n",
       "      <td>0.238</td>\n",
       "      <td>-82.738</td>\n",
       "      <td>0.0</td>\n",
       "    </tr>\n",
       "    <tr>\n",
       "      <th>243</th>\n",
       "      <td>-16.616</td>\n",
       "      <td>-0.280</td>\n",
       "      <td>-0.016</td>\n",
       "      <td>1.010</td>\n",
       "      <td>-1.244</td>\n",
       "      <td>-21.790</td>\n",
       "      <td>11.608</td>\n",
       "      <td>-54.142</td>\n",
       "      <td>-45.838</td>\n",
       "      <td>31.318</td>\n",
       "      <td>-19.590</td>\n",
       "      <td>0.0</td>\n",
       "    </tr>\n",
       "    <tr>\n",
       "      <th>246</th>\n",
       "      <td>-16.708</td>\n",
       "      <td>-0.488</td>\n",
       "      <td>-0.056</td>\n",
       "      <td>1.024</td>\n",
       "      <td>-19.690</td>\n",
       "      <td>-28.906</td>\n",
       "      <td>40.210</td>\n",
       "      <td>-32.652</td>\n",
       "      <td>-40.850</td>\n",
       "      <td>40.164</td>\n",
       "      <td>-24.200</td>\n",
       "      <td>0.0</td>\n",
       "    </tr>\n",
       "    <tr>\n",
       "      <th>249</th>\n",
       "      <td>-15.996</td>\n",
       "      <td>-0.920</td>\n",
       "      <td>-0.280</td>\n",
       "      <td>1.020</td>\n",
       "      <td>13.294</td>\n",
       "      <td>-11.998</td>\n",
       "      <td>59.850</td>\n",
       "      <td>12.186</td>\n",
       "      <td>-2.376</td>\n",
       "      <td>32.272</td>\n",
       "      <td>-87.118</td>\n",
       "      <td>0.0</td>\n",
       "    </tr>\n",
       "    <tr>\n",
       "      <th>252</th>\n",
       "      <td>-15.618</td>\n",
       "      <td>-0.536</td>\n",
       "      <td>-0.656</td>\n",
       "      <td>0.952</td>\n",
       "      <td>80.798</td>\n",
       "      <td>22.304</td>\n",
       "      <td>-29.004</td>\n",
       "      <td>9.542</td>\n",
       "      <td>-24.940</td>\n",
       "      <td>13.866</td>\n",
       "      <td>-81.818</td>\n",
       "      <td>0.0</td>\n",
       "    </tr>\n",
       "  </tbody>\n",
       "</table>\n",
       "<p>539 rows × 12 columns</p>\n",
       "</div>"
      ],
      "text/plain": [
       "         aX     aY     aZ  aSqrt      gX      gY      gZ  mDirection      mX  \\\n",
       "6   -15.846 -0.626  0.092  0.934  -4.310 -22.548  -9.948     -10.634  -7.362   \n",
       "9   -15.346 -0.290  0.090  0.998   0.806   1.914  -0.132    -100.672 -48.686   \n",
       "12  -16.054 -0.366  0.200  1.010  -2.870   0.780   4.078     -40.688 -19.476   \n",
       "15  -16.764 -0.400  0.120  0.942 -28.126  22.386 -30.066      -8.500 -10.212   \n",
       "18  -15.908 -0.194 -0.042  0.888  -6.238  48.756  -3.980     -52.486 -28.972   \n",
       "..      ...    ...    ...    ...     ...     ...     ...         ...     ...   \n",
       "240 -15.540 -0.282 -0.220  0.996  -8.130  41.554  -6.946     -78.762 -28.264   \n",
       "243 -16.616 -0.280 -0.016  1.010  -1.244 -21.790  11.608     -54.142 -45.838   \n",
       "246 -16.708 -0.488 -0.056  1.024 -19.690 -28.906  40.210     -32.652 -40.850   \n",
       "249 -15.996 -0.920 -0.280  1.020  13.294 -11.998  59.850      12.186  -2.376   \n",
       "252 -15.618 -0.536 -0.656  0.952  80.798  22.304 -29.004       9.542 -24.940   \n",
       "\n",
       "         mY      mZ  label  \n",
       "6    34.902 -31.114    0.0  \n",
       "9    -3.110  -8.528    0.0  \n",
       "12   30.122  -9.218    0.0  \n",
       "15   67.178 -54.392    0.0  \n",
       "18   33.230 -27.426    0.0  \n",
       "..      ...     ...    ...  \n",
       "240   0.238 -82.738    0.0  \n",
       "243  31.318 -19.590    0.0  \n",
       "246  40.164 -24.200    0.0  \n",
       "249  32.272 -87.118    0.0  \n",
       "252  13.866 -81.818    0.0  \n",
       "\n",
       "[539 rows x 12 columns]"
      ]
     },
     "execution_count": 7,
     "metadata": {},
     "output_type": "execute_result"
    }
   ],
   "source": [
    "# calculating sliding mean\n",
    "\n",
    "by = 3\n",
    "win = 5\n",
    "start = 3 ## it is the index of your 1st valid value.\n",
    "new_df1 = df.rolling(win).mean()[start::by] ## calculate all, choose what you need.\n",
    "new_df1.dropna(inplace=True)\n",
    "new_df1"
   ]
  },
  {
   "cell_type": "code",
   "execution_count": 8,
   "metadata": {},
   "outputs": [
    {
     "data": {
      "text/html": [
       "<div>\n",
       "<style scoped>\n",
       "    .dataframe tbody tr th:only-of-type {\n",
       "        vertical-align: middle;\n",
       "    }\n",
       "\n",
       "    .dataframe tbody tr th {\n",
       "        vertical-align: top;\n",
       "    }\n",
       "\n",
       "    .dataframe thead th {\n",
       "        text-align: right;\n",
       "    }\n",
       "</style>\n",
       "<table border=\"1\" class=\"dataframe\">\n",
       "  <thead>\n",
       "    <tr style=\"text-align: right;\">\n",
       "      <th></th>\n",
       "      <th>aX_std</th>\n",
       "      <th>aY_std</th>\n",
       "      <th>aZ_std</th>\n",
       "      <th>aSqrt_std</th>\n",
       "      <th>gX_std</th>\n",
       "      <th>gY_std</th>\n",
       "      <th>gZ_std</th>\n",
       "      <th>mDirection_std</th>\n",
       "      <th>mX_std</th>\n",
       "      <th>mY_std</th>\n",
       "      <th>mZ_std</th>\n",
       "    </tr>\n",
       "  </thead>\n",
       "  <tbody>\n",
       "    <tr>\n",
       "      <th>6</th>\n",
       "      <td>0.780468</td>\n",
       "      <td>0.381811</td>\n",
       "      <td>0.363483</td>\n",
       "      <td>0.090443</td>\n",
       "      <td>18.104686</td>\n",
       "      <td>153.990432</td>\n",
       "      <td>86.523380</td>\n",
       "      <td>75.417745</td>\n",
       "      <td>59.804263</td>\n",
       "      <td>41.626997</td>\n",
       "      <td>44.680796</td>\n",
       "    </tr>\n",
       "    <tr>\n",
       "      <th>9</th>\n",
       "      <td>0.885539</td>\n",
       "      <td>0.054314</td>\n",
       "      <td>0.141951</td>\n",
       "      <td>0.004472</td>\n",
       "      <td>0.231149</td>\n",
       "      <td>0.108995</td>\n",
       "      <td>0.160997</td>\n",
       "      <td>31.082119</td>\n",
       "      <td>17.594035</td>\n",
       "      <td>26.696943</td>\n",
       "      <td>57.196432</td>\n",
       "    </tr>\n",
       "    <tr>\n",
       "      <th>12</th>\n",
       "      <td>1.022316</td>\n",
       "      <td>0.250559</td>\n",
       "      <td>0.295888</td>\n",
       "      <td>0.028284</td>\n",
       "      <td>8.159084</td>\n",
       "      <td>2.383065</td>\n",
       "      <td>9.628023</td>\n",
       "      <td>61.658432</td>\n",
       "      <td>35.796985</td>\n",
       "      <td>42.811755</td>\n",
       "      <td>54.810874</td>\n",
       "    </tr>\n",
       "    <tr>\n",
       "      <th>15</th>\n",
       "      <td>0.176862</td>\n",
       "      <td>0.247689</td>\n",
       "      <td>0.337861</td>\n",
       "      <td>0.110995</td>\n",
       "      <td>49.915393</td>\n",
       "      <td>30.912751</td>\n",
       "      <td>51.971616</td>\n",
       "      <td>26.645231</td>\n",
       "      <td>30.001208</td>\n",
       "      <td>23.523080</td>\n",
       "      <td>28.961659</td>\n",
       "    </tr>\n",
       "    <tr>\n",
       "      <th>18</th>\n",
       "      <td>0.859314</td>\n",
       "      <td>0.338423</td>\n",
       "      <td>0.400587</td>\n",
       "      <td>0.169027</td>\n",
       "      <td>7.485544</td>\n",
       "      <td>97.424188</td>\n",
       "      <td>56.108846</td>\n",
       "      <td>50.910105</td>\n",
       "      <td>20.200195</td>\n",
       "      <td>49.245593</td>\n",
       "      <td>54.034825</td>\n",
       "    </tr>\n",
       "    <tr>\n",
       "      <th>...</th>\n",
       "      <td>...</td>\n",
       "      <td>...</td>\n",
       "      <td>...</td>\n",
       "      <td>...</td>\n",
       "      <td>...</td>\n",
       "      <td>...</td>\n",
       "      <td>...</td>\n",
       "      <td>...</td>\n",
       "      <td>...</td>\n",
       "      <td>...</td>\n",
       "      <td>...</td>\n",
       "    </tr>\n",
       "    <tr>\n",
       "      <th>240</th>\n",
       "      <td>0.768863</td>\n",
       "      <td>0.084380</td>\n",
       "      <td>0.607083</td>\n",
       "      <td>0.039749</td>\n",
       "      <td>37.589082</td>\n",
       "      <td>170.648618</td>\n",
       "      <td>41.252680</td>\n",
       "      <td>53.912596</td>\n",
       "      <td>14.283534</td>\n",
       "      <td>30.991286</td>\n",
       "      <td>54.145286</td>\n",
       "    </tr>\n",
       "    <tr>\n",
       "      <th>243</th>\n",
       "      <td>0.652557</td>\n",
       "      <td>0.067454</td>\n",
       "      <td>0.499830</td>\n",
       "      <td>0.023452</td>\n",
       "      <td>28.508548</td>\n",
       "      <td>51.514417</td>\n",
       "      <td>20.139356</td>\n",
       "      <td>24.011777</td>\n",
       "      <td>21.168461</td>\n",
       "      <td>16.934978</td>\n",
       "      <td>49.551977</td>\n",
       "    </tr>\n",
       "    <tr>\n",
       "      <th>246</th>\n",
       "      <td>0.485664</td>\n",
       "      <td>0.463810</td>\n",
       "      <td>0.120333</td>\n",
       "      <td>0.027928</td>\n",
       "      <td>34.010085</td>\n",
       "      <td>43.089468</td>\n",
       "      <td>90.310230</td>\n",
       "      <td>48.987165</td>\n",
       "      <td>44.754515</td>\n",
       "      <td>7.252691</td>\n",
       "      <td>44.450231</td>\n",
       "    </tr>\n",
       "    <tr>\n",
       "      <th>249</th>\n",
       "      <td>0.503865</td>\n",
       "      <td>0.419940</td>\n",
       "      <td>0.392237</td>\n",
       "      <td>0.031623</td>\n",
       "      <td>87.808752</td>\n",
       "      <td>68.750718</td>\n",
       "      <td>89.222951</td>\n",
       "      <td>52.312720</td>\n",
       "      <td>43.530088</td>\n",
       "      <td>16.628353</td>\n",
       "      <td>47.926006</td>\n",
       "    </tr>\n",
       "    <tr>\n",
       "      <th>252</th>\n",
       "      <td>0.197155</td>\n",
       "      <td>0.355992</td>\n",
       "      <td>0.501926</td>\n",
       "      <td>0.340397</td>\n",
       "      <td>82.507321</td>\n",
       "      <td>39.787631</td>\n",
       "      <td>100.082887</td>\n",
       "      <td>101.587573</td>\n",
       "      <td>30.532767</td>\n",
       "      <td>48.428156</td>\n",
       "      <td>29.301279</td>\n",
       "    </tr>\n",
       "  </tbody>\n",
       "</table>\n",
       "<p>539 rows × 11 columns</p>\n",
       "</div>"
      ],
      "text/plain": [
       "       aX_std    aY_std    aZ_std  aSqrt_std     gX_std      gY_std  \\\n",
       "6    0.780468  0.381811  0.363483   0.090443  18.104686  153.990432   \n",
       "9    0.885539  0.054314  0.141951   0.004472   0.231149    0.108995   \n",
       "12   1.022316  0.250559  0.295888   0.028284   8.159084    2.383065   \n",
       "15   0.176862  0.247689  0.337861   0.110995  49.915393   30.912751   \n",
       "18   0.859314  0.338423  0.400587   0.169027   7.485544   97.424188   \n",
       "..        ...       ...       ...        ...        ...         ...   \n",
       "240  0.768863  0.084380  0.607083   0.039749  37.589082  170.648618   \n",
       "243  0.652557  0.067454  0.499830   0.023452  28.508548   51.514417   \n",
       "246  0.485664  0.463810  0.120333   0.027928  34.010085   43.089468   \n",
       "249  0.503865  0.419940  0.392237   0.031623  87.808752   68.750718   \n",
       "252  0.197155  0.355992  0.501926   0.340397  82.507321   39.787631   \n",
       "\n",
       "         gZ_std  mDirection_std     mX_std     mY_std     mZ_std  \n",
       "6     86.523380       75.417745  59.804263  41.626997  44.680796  \n",
       "9      0.160997       31.082119  17.594035  26.696943  57.196432  \n",
       "12     9.628023       61.658432  35.796985  42.811755  54.810874  \n",
       "15    51.971616       26.645231  30.001208  23.523080  28.961659  \n",
       "18    56.108846       50.910105  20.200195  49.245593  54.034825  \n",
       "..          ...             ...        ...        ...        ...  \n",
       "240   41.252680       53.912596  14.283534  30.991286  54.145286  \n",
       "243   20.139356       24.011777  21.168461  16.934978  49.551977  \n",
       "246   90.310230       48.987165  44.754515   7.252691  44.450231  \n",
       "249   89.222951       52.312720  43.530088  16.628353  47.926006  \n",
       "252  100.082887      101.587573  30.532767  48.428156  29.301279  \n",
       "\n",
       "[539 rows x 11 columns]"
      ]
     },
     "execution_count": 8,
     "metadata": {},
     "output_type": "execute_result"
    }
   ],
   "source": [
    "# calculating sliding standard deviation\n",
    "\n",
    "by = 3\n",
    "win = 5\n",
    "start = 3\n",
    "\n",
    "new_df2 = df.rolling(win).std()[start::by]\n",
    "new_df2.dropna(inplace=True)\n",
    "new_df2.drop(columns=['label'], inplace=True)\n",
    "new_df2.columns = ['aX_std', 'aY_std', 'aZ_std', 'aSqrt_std', 'gX_std', 'gY_std', 'gZ_std', 'mDirection_std', 'mX_std', 'mY_std', 'mZ_std']\n",
    "new_df2"
   ]
  },
  {
   "cell_type": "code",
   "execution_count": 9,
   "metadata": {},
   "outputs": [
    {
     "data": {
      "text/html": [
       "<div>\n",
       "<style scoped>\n",
       "    .dataframe tbody tr th:only-of-type {\n",
       "        vertical-align: middle;\n",
       "    }\n",
       "\n",
       "    .dataframe tbody tr th {\n",
       "        vertical-align: top;\n",
       "    }\n",
       "\n",
       "    .dataframe thead th {\n",
       "        text-align: right;\n",
       "    }\n",
       "</style>\n",
       "<table border=\"1\" class=\"dataframe\">\n",
       "  <thead>\n",
       "    <tr style=\"text-align: right;\">\n",
       "      <th></th>\n",
       "      <th>aX</th>\n",
       "      <th>aY</th>\n",
       "      <th>aZ</th>\n",
       "      <th>aSqrt</th>\n",
       "      <th>gX</th>\n",
       "      <th>gY</th>\n",
       "      <th>gZ</th>\n",
       "      <th>mDirection</th>\n",
       "      <th>mX</th>\n",
       "      <th>mY</th>\n",
       "      <th>...</th>\n",
       "      <th>aY_std</th>\n",
       "      <th>aZ_std</th>\n",
       "      <th>aSqrt_std</th>\n",
       "      <th>gX_std</th>\n",
       "      <th>gY_std</th>\n",
       "      <th>gZ_std</th>\n",
       "      <th>mDirection_std</th>\n",
       "      <th>mX_std</th>\n",
       "      <th>mY_std</th>\n",
       "      <th>mZ_std</th>\n",
       "    </tr>\n",
       "  </thead>\n",
       "  <tbody>\n",
       "    <tr>\n",
       "      <th>6</th>\n",
       "      <td>-15.846</td>\n",
       "      <td>-0.626</td>\n",
       "      <td>0.092</td>\n",
       "      <td>0.934</td>\n",
       "      <td>-4.310</td>\n",
       "      <td>-22.548</td>\n",
       "      <td>-9.948</td>\n",
       "      <td>-10.634</td>\n",
       "      <td>-7.362</td>\n",
       "      <td>34.902</td>\n",
       "      <td>...</td>\n",
       "      <td>0.381811</td>\n",
       "      <td>0.363483</td>\n",
       "      <td>0.090443</td>\n",
       "      <td>18.104686</td>\n",
       "      <td>153.990432</td>\n",
       "      <td>86.523380</td>\n",
       "      <td>75.417745</td>\n",
       "      <td>59.804263</td>\n",
       "      <td>41.626997</td>\n",
       "      <td>44.680796</td>\n",
       "    </tr>\n",
       "    <tr>\n",
       "      <th>9</th>\n",
       "      <td>-15.346</td>\n",
       "      <td>-0.290</td>\n",
       "      <td>0.090</td>\n",
       "      <td>0.998</td>\n",
       "      <td>0.806</td>\n",
       "      <td>1.914</td>\n",
       "      <td>-0.132</td>\n",
       "      <td>-100.672</td>\n",
       "      <td>-48.686</td>\n",
       "      <td>-3.110</td>\n",
       "      <td>...</td>\n",
       "      <td>0.054314</td>\n",
       "      <td>0.141951</td>\n",
       "      <td>0.004472</td>\n",
       "      <td>0.231149</td>\n",
       "      <td>0.108995</td>\n",
       "      <td>0.160997</td>\n",
       "      <td>31.082119</td>\n",
       "      <td>17.594035</td>\n",
       "      <td>26.696943</td>\n",
       "      <td>57.196432</td>\n",
       "    </tr>\n",
       "    <tr>\n",
       "      <th>12</th>\n",
       "      <td>-16.054</td>\n",
       "      <td>-0.366</td>\n",
       "      <td>0.200</td>\n",
       "      <td>1.010</td>\n",
       "      <td>-2.870</td>\n",
       "      <td>0.780</td>\n",
       "      <td>4.078</td>\n",
       "      <td>-40.688</td>\n",
       "      <td>-19.476</td>\n",
       "      <td>30.122</td>\n",
       "      <td>...</td>\n",
       "      <td>0.250559</td>\n",
       "      <td>0.295888</td>\n",
       "      <td>0.028284</td>\n",
       "      <td>8.159084</td>\n",
       "      <td>2.383065</td>\n",
       "      <td>9.628023</td>\n",
       "      <td>61.658432</td>\n",
       "      <td>35.796985</td>\n",
       "      <td>42.811755</td>\n",
       "      <td>54.810874</td>\n",
       "    </tr>\n",
       "    <tr>\n",
       "      <th>15</th>\n",
       "      <td>-16.764</td>\n",
       "      <td>-0.400</td>\n",
       "      <td>0.120</td>\n",
       "      <td>0.942</td>\n",
       "      <td>-28.126</td>\n",
       "      <td>22.386</td>\n",
       "      <td>-30.066</td>\n",
       "      <td>-8.500</td>\n",
       "      <td>-10.212</td>\n",
       "      <td>67.178</td>\n",
       "      <td>...</td>\n",
       "      <td>0.247689</td>\n",
       "      <td>0.337861</td>\n",
       "      <td>0.110995</td>\n",
       "      <td>49.915393</td>\n",
       "      <td>30.912751</td>\n",
       "      <td>51.971616</td>\n",
       "      <td>26.645231</td>\n",
       "      <td>30.001208</td>\n",
       "      <td>23.523080</td>\n",
       "      <td>28.961659</td>\n",
       "    </tr>\n",
       "    <tr>\n",
       "      <th>18</th>\n",
       "      <td>-15.908</td>\n",
       "      <td>-0.194</td>\n",
       "      <td>-0.042</td>\n",
       "      <td>0.888</td>\n",
       "      <td>-6.238</td>\n",
       "      <td>48.756</td>\n",
       "      <td>-3.980</td>\n",
       "      <td>-52.486</td>\n",
       "      <td>-28.972</td>\n",
       "      <td>33.230</td>\n",
       "      <td>...</td>\n",
       "      <td>0.338423</td>\n",
       "      <td>0.400587</td>\n",
       "      <td>0.169027</td>\n",
       "      <td>7.485544</td>\n",
       "      <td>97.424188</td>\n",
       "      <td>56.108846</td>\n",
       "      <td>50.910105</td>\n",
       "      <td>20.200195</td>\n",
       "      <td>49.245593</td>\n",
       "      <td>54.034825</td>\n",
       "    </tr>\n",
       "    <tr>\n",
       "      <th>...</th>\n",
       "      <td>...</td>\n",
       "      <td>...</td>\n",
       "      <td>...</td>\n",
       "      <td>...</td>\n",
       "      <td>...</td>\n",
       "      <td>...</td>\n",
       "      <td>...</td>\n",
       "      <td>...</td>\n",
       "      <td>...</td>\n",
       "      <td>...</td>\n",
       "      <td>...</td>\n",
       "      <td>...</td>\n",
       "      <td>...</td>\n",
       "      <td>...</td>\n",
       "      <td>...</td>\n",
       "      <td>...</td>\n",
       "      <td>...</td>\n",
       "      <td>...</td>\n",
       "      <td>...</td>\n",
       "      <td>...</td>\n",
       "      <td>...</td>\n",
       "    </tr>\n",
       "    <tr>\n",
       "      <th>240</th>\n",
       "      <td>-15.540</td>\n",
       "      <td>-0.282</td>\n",
       "      <td>-0.220</td>\n",
       "      <td>0.996</td>\n",
       "      <td>-8.130</td>\n",
       "      <td>41.554</td>\n",
       "      <td>-6.946</td>\n",
       "      <td>-78.762</td>\n",
       "      <td>-28.264</td>\n",
       "      <td>0.238</td>\n",
       "      <td>...</td>\n",
       "      <td>0.084380</td>\n",
       "      <td>0.607083</td>\n",
       "      <td>0.039749</td>\n",
       "      <td>37.589082</td>\n",
       "      <td>170.648618</td>\n",
       "      <td>41.252680</td>\n",
       "      <td>53.912596</td>\n",
       "      <td>14.283534</td>\n",
       "      <td>30.991286</td>\n",
       "      <td>54.145286</td>\n",
       "    </tr>\n",
       "    <tr>\n",
       "      <th>243</th>\n",
       "      <td>-16.616</td>\n",
       "      <td>-0.280</td>\n",
       "      <td>-0.016</td>\n",
       "      <td>1.010</td>\n",
       "      <td>-1.244</td>\n",
       "      <td>-21.790</td>\n",
       "      <td>11.608</td>\n",
       "      <td>-54.142</td>\n",
       "      <td>-45.838</td>\n",
       "      <td>31.318</td>\n",
       "      <td>...</td>\n",
       "      <td>0.067454</td>\n",
       "      <td>0.499830</td>\n",
       "      <td>0.023452</td>\n",
       "      <td>28.508548</td>\n",
       "      <td>51.514417</td>\n",
       "      <td>20.139356</td>\n",
       "      <td>24.011777</td>\n",
       "      <td>21.168461</td>\n",
       "      <td>16.934978</td>\n",
       "      <td>49.551977</td>\n",
       "    </tr>\n",
       "    <tr>\n",
       "      <th>246</th>\n",
       "      <td>-16.708</td>\n",
       "      <td>-0.488</td>\n",
       "      <td>-0.056</td>\n",
       "      <td>1.024</td>\n",
       "      <td>-19.690</td>\n",
       "      <td>-28.906</td>\n",
       "      <td>40.210</td>\n",
       "      <td>-32.652</td>\n",
       "      <td>-40.850</td>\n",
       "      <td>40.164</td>\n",
       "      <td>...</td>\n",
       "      <td>0.463810</td>\n",
       "      <td>0.120333</td>\n",
       "      <td>0.027928</td>\n",
       "      <td>34.010085</td>\n",
       "      <td>43.089468</td>\n",
       "      <td>90.310230</td>\n",
       "      <td>48.987165</td>\n",
       "      <td>44.754515</td>\n",
       "      <td>7.252691</td>\n",
       "      <td>44.450231</td>\n",
       "    </tr>\n",
       "    <tr>\n",
       "      <th>249</th>\n",
       "      <td>-15.996</td>\n",
       "      <td>-0.920</td>\n",
       "      <td>-0.280</td>\n",
       "      <td>1.020</td>\n",
       "      <td>13.294</td>\n",
       "      <td>-11.998</td>\n",
       "      <td>59.850</td>\n",
       "      <td>12.186</td>\n",
       "      <td>-2.376</td>\n",
       "      <td>32.272</td>\n",
       "      <td>...</td>\n",
       "      <td>0.419940</td>\n",
       "      <td>0.392237</td>\n",
       "      <td>0.031623</td>\n",
       "      <td>87.808752</td>\n",
       "      <td>68.750718</td>\n",
       "      <td>89.222951</td>\n",
       "      <td>52.312720</td>\n",
       "      <td>43.530088</td>\n",
       "      <td>16.628353</td>\n",
       "      <td>47.926006</td>\n",
       "    </tr>\n",
       "    <tr>\n",
       "      <th>252</th>\n",
       "      <td>-15.618</td>\n",
       "      <td>-0.536</td>\n",
       "      <td>-0.656</td>\n",
       "      <td>0.952</td>\n",
       "      <td>80.798</td>\n",
       "      <td>22.304</td>\n",
       "      <td>-29.004</td>\n",
       "      <td>9.542</td>\n",
       "      <td>-24.940</td>\n",
       "      <td>13.866</td>\n",
       "      <td>...</td>\n",
       "      <td>0.355992</td>\n",
       "      <td>0.501926</td>\n",
       "      <td>0.340397</td>\n",
       "      <td>82.507321</td>\n",
       "      <td>39.787631</td>\n",
       "      <td>100.082887</td>\n",
       "      <td>101.587573</td>\n",
       "      <td>30.532767</td>\n",
       "      <td>48.428156</td>\n",
       "      <td>29.301279</td>\n",
       "    </tr>\n",
       "  </tbody>\n",
       "</table>\n",
       "<p>539 rows × 23 columns</p>\n",
       "</div>"
      ],
      "text/plain": [
       "         aX     aY     aZ  aSqrt      gX      gY      gZ  mDirection      mX  \\\n",
       "6   -15.846 -0.626  0.092  0.934  -4.310 -22.548  -9.948     -10.634  -7.362   \n",
       "9   -15.346 -0.290  0.090  0.998   0.806   1.914  -0.132    -100.672 -48.686   \n",
       "12  -16.054 -0.366  0.200  1.010  -2.870   0.780   4.078     -40.688 -19.476   \n",
       "15  -16.764 -0.400  0.120  0.942 -28.126  22.386 -30.066      -8.500 -10.212   \n",
       "18  -15.908 -0.194 -0.042  0.888  -6.238  48.756  -3.980     -52.486 -28.972   \n",
       "..      ...    ...    ...    ...     ...     ...     ...         ...     ...   \n",
       "240 -15.540 -0.282 -0.220  0.996  -8.130  41.554  -6.946     -78.762 -28.264   \n",
       "243 -16.616 -0.280 -0.016  1.010  -1.244 -21.790  11.608     -54.142 -45.838   \n",
       "246 -16.708 -0.488 -0.056  1.024 -19.690 -28.906  40.210     -32.652 -40.850   \n",
       "249 -15.996 -0.920 -0.280  1.020  13.294 -11.998  59.850      12.186  -2.376   \n",
       "252 -15.618 -0.536 -0.656  0.952  80.798  22.304 -29.004       9.542 -24.940   \n",
       "\n",
       "         mY  ...    aY_std    aZ_std  aSqrt_std     gX_std      gY_std  \\\n",
       "6    34.902  ...  0.381811  0.363483   0.090443  18.104686  153.990432   \n",
       "9    -3.110  ...  0.054314  0.141951   0.004472   0.231149    0.108995   \n",
       "12   30.122  ...  0.250559  0.295888   0.028284   8.159084    2.383065   \n",
       "15   67.178  ...  0.247689  0.337861   0.110995  49.915393   30.912751   \n",
       "18   33.230  ...  0.338423  0.400587   0.169027   7.485544   97.424188   \n",
       "..      ...  ...       ...       ...        ...        ...         ...   \n",
       "240   0.238  ...  0.084380  0.607083   0.039749  37.589082  170.648618   \n",
       "243  31.318  ...  0.067454  0.499830   0.023452  28.508548   51.514417   \n",
       "246  40.164  ...  0.463810  0.120333   0.027928  34.010085   43.089468   \n",
       "249  32.272  ...  0.419940  0.392237   0.031623  87.808752   68.750718   \n",
       "252  13.866  ...  0.355992  0.501926   0.340397  82.507321   39.787631   \n",
       "\n",
       "         gZ_std  mDirection_std     mX_std     mY_std     mZ_std  \n",
       "6     86.523380       75.417745  59.804263  41.626997  44.680796  \n",
       "9      0.160997       31.082119  17.594035  26.696943  57.196432  \n",
       "12     9.628023       61.658432  35.796985  42.811755  54.810874  \n",
       "15    51.971616       26.645231  30.001208  23.523080  28.961659  \n",
       "18    56.108846       50.910105  20.200195  49.245593  54.034825  \n",
       "..          ...             ...        ...        ...        ...  \n",
       "240   41.252680       53.912596  14.283534  30.991286  54.145286  \n",
       "243   20.139356       24.011777  21.168461  16.934978  49.551977  \n",
       "246   90.310230       48.987165  44.754515   7.252691  44.450231  \n",
       "249   89.222951       52.312720  43.530088  16.628353  47.926006  \n",
       "252  100.082887      101.587573  30.532767  48.428156  29.301279  \n",
       "\n",
       "[539 rows x 23 columns]"
      ]
     },
     "execution_count": 9,
     "metadata": {},
     "output_type": "execute_result"
    }
   ],
   "source": [
    "new_df = pd.concat([new_df1, new_df2], axis=1)\n",
    "new_df"
   ]
  },
  {
   "cell_type": "code",
   "execution_count": 10,
   "metadata": {},
   "outputs": [
    {
     "data": {
      "text/html": [
       "<div>\n",
       "<style scoped>\n",
       "    .dataframe tbody tr th:only-of-type {\n",
       "        vertical-align: middle;\n",
       "    }\n",
       "\n",
       "    .dataframe tbody tr th {\n",
       "        vertical-align: top;\n",
       "    }\n",
       "\n",
       "    .dataframe thead th {\n",
       "        text-align: right;\n",
       "    }\n",
       "</style>\n",
       "<table border=\"1\" class=\"dataframe\">\n",
       "  <thead>\n",
       "    <tr style=\"text-align: right;\">\n",
       "      <th></th>\n",
       "      <th>aX</th>\n",
       "      <th>aSqrt</th>\n",
       "      <th>gX</th>\n",
       "      <th>gY</th>\n",
       "      <th>gZ</th>\n",
       "      <th>label</th>\n",
       "      <th>aZ_std</th>\n",
       "      <th>aSqrt_std</th>\n",
       "      <th>gX_std</th>\n",
       "      <th>gY_std</th>\n",
       "      <th>gZ_std</th>\n",
       "    </tr>\n",
       "  </thead>\n",
       "  <tbody>\n",
       "    <tr>\n",
       "      <th>6</th>\n",
       "      <td>-15.846</td>\n",
       "      <td>0.934</td>\n",
       "      <td>-4.310</td>\n",
       "      <td>-22.548</td>\n",
       "      <td>-9.948</td>\n",
       "      <td>0.0</td>\n",
       "      <td>0.363483</td>\n",
       "      <td>0.090443</td>\n",
       "      <td>18.104686</td>\n",
       "      <td>153.990432</td>\n",
       "      <td>86.523380</td>\n",
       "    </tr>\n",
       "    <tr>\n",
       "      <th>9</th>\n",
       "      <td>-15.346</td>\n",
       "      <td>0.998</td>\n",
       "      <td>0.806</td>\n",
       "      <td>1.914</td>\n",
       "      <td>-0.132</td>\n",
       "      <td>0.0</td>\n",
       "      <td>0.141951</td>\n",
       "      <td>0.004472</td>\n",
       "      <td>0.231149</td>\n",
       "      <td>0.108995</td>\n",
       "      <td>0.160997</td>\n",
       "    </tr>\n",
       "    <tr>\n",
       "      <th>12</th>\n",
       "      <td>-16.054</td>\n",
       "      <td>1.010</td>\n",
       "      <td>-2.870</td>\n",
       "      <td>0.780</td>\n",
       "      <td>4.078</td>\n",
       "      <td>0.0</td>\n",
       "      <td>0.295888</td>\n",
       "      <td>0.028284</td>\n",
       "      <td>8.159084</td>\n",
       "      <td>2.383065</td>\n",
       "      <td>9.628023</td>\n",
       "    </tr>\n",
       "    <tr>\n",
       "      <th>15</th>\n",
       "      <td>-16.764</td>\n",
       "      <td>0.942</td>\n",
       "      <td>-28.126</td>\n",
       "      <td>22.386</td>\n",
       "      <td>-30.066</td>\n",
       "      <td>0.0</td>\n",
       "      <td>0.337861</td>\n",
       "      <td>0.110995</td>\n",
       "      <td>49.915393</td>\n",
       "      <td>30.912751</td>\n",
       "      <td>51.971616</td>\n",
       "    </tr>\n",
       "    <tr>\n",
       "      <th>18</th>\n",
       "      <td>-15.908</td>\n",
       "      <td>0.888</td>\n",
       "      <td>-6.238</td>\n",
       "      <td>48.756</td>\n",
       "      <td>-3.980</td>\n",
       "      <td>0.0</td>\n",
       "      <td>0.400587</td>\n",
       "      <td>0.169027</td>\n",
       "      <td>7.485544</td>\n",
       "      <td>97.424188</td>\n",
       "      <td>56.108846</td>\n",
       "    </tr>\n",
       "    <tr>\n",
       "      <th>...</th>\n",
       "      <td>...</td>\n",
       "      <td>...</td>\n",
       "      <td>...</td>\n",
       "      <td>...</td>\n",
       "      <td>...</td>\n",
       "      <td>...</td>\n",
       "      <td>...</td>\n",
       "      <td>...</td>\n",
       "      <td>...</td>\n",
       "      <td>...</td>\n",
       "      <td>...</td>\n",
       "    </tr>\n",
       "    <tr>\n",
       "      <th>240</th>\n",
       "      <td>-15.540</td>\n",
       "      <td>0.996</td>\n",
       "      <td>-8.130</td>\n",
       "      <td>41.554</td>\n",
       "      <td>-6.946</td>\n",
       "      <td>0.0</td>\n",
       "      <td>0.607083</td>\n",
       "      <td>0.039749</td>\n",
       "      <td>37.589082</td>\n",
       "      <td>170.648618</td>\n",
       "      <td>41.252680</td>\n",
       "    </tr>\n",
       "    <tr>\n",
       "      <th>243</th>\n",
       "      <td>-16.616</td>\n",
       "      <td>1.010</td>\n",
       "      <td>-1.244</td>\n",
       "      <td>-21.790</td>\n",
       "      <td>11.608</td>\n",
       "      <td>0.0</td>\n",
       "      <td>0.499830</td>\n",
       "      <td>0.023452</td>\n",
       "      <td>28.508548</td>\n",
       "      <td>51.514417</td>\n",
       "      <td>20.139356</td>\n",
       "    </tr>\n",
       "    <tr>\n",
       "      <th>246</th>\n",
       "      <td>-16.708</td>\n",
       "      <td>1.024</td>\n",
       "      <td>-19.690</td>\n",
       "      <td>-28.906</td>\n",
       "      <td>40.210</td>\n",
       "      <td>0.0</td>\n",
       "      <td>0.120333</td>\n",
       "      <td>0.027928</td>\n",
       "      <td>34.010085</td>\n",
       "      <td>43.089468</td>\n",
       "      <td>90.310230</td>\n",
       "    </tr>\n",
       "    <tr>\n",
       "      <th>249</th>\n",
       "      <td>-15.996</td>\n",
       "      <td>1.020</td>\n",
       "      <td>13.294</td>\n",
       "      <td>-11.998</td>\n",
       "      <td>59.850</td>\n",
       "      <td>0.0</td>\n",
       "      <td>0.392237</td>\n",
       "      <td>0.031623</td>\n",
       "      <td>87.808752</td>\n",
       "      <td>68.750718</td>\n",
       "      <td>89.222951</td>\n",
       "    </tr>\n",
       "    <tr>\n",
       "      <th>252</th>\n",
       "      <td>-15.618</td>\n",
       "      <td>0.952</td>\n",
       "      <td>80.798</td>\n",
       "      <td>22.304</td>\n",
       "      <td>-29.004</td>\n",
       "      <td>0.0</td>\n",
       "      <td>0.501926</td>\n",
       "      <td>0.340397</td>\n",
       "      <td>82.507321</td>\n",
       "      <td>39.787631</td>\n",
       "      <td>100.082887</td>\n",
       "    </tr>\n",
       "  </tbody>\n",
       "</table>\n",
       "<p>539 rows × 11 columns</p>\n",
       "</div>"
      ],
      "text/plain": [
       "         aX  aSqrt      gX      gY      gZ  label    aZ_std  aSqrt_std  \\\n",
       "6   -15.846  0.934  -4.310 -22.548  -9.948    0.0  0.363483   0.090443   \n",
       "9   -15.346  0.998   0.806   1.914  -0.132    0.0  0.141951   0.004472   \n",
       "12  -16.054  1.010  -2.870   0.780   4.078    0.0  0.295888   0.028284   \n",
       "15  -16.764  0.942 -28.126  22.386 -30.066    0.0  0.337861   0.110995   \n",
       "18  -15.908  0.888  -6.238  48.756  -3.980    0.0  0.400587   0.169027   \n",
       "..      ...    ...     ...     ...     ...    ...       ...        ...   \n",
       "240 -15.540  0.996  -8.130  41.554  -6.946    0.0  0.607083   0.039749   \n",
       "243 -16.616  1.010  -1.244 -21.790  11.608    0.0  0.499830   0.023452   \n",
       "246 -16.708  1.024 -19.690 -28.906  40.210    0.0  0.120333   0.027928   \n",
       "249 -15.996  1.020  13.294 -11.998  59.850    0.0  0.392237   0.031623   \n",
       "252 -15.618  0.952  80.798  22.304 -29.004    0.0  0.501926   0.340397   \n",
       "\n",
       "        gX_std      gY_std      gZ_std  \n",
       "6    18.104686  153.990432   86.523380  \n",
       "9     0.231149    0.108995    0.160997  \n",
       "12    8.159084    2.383065    9.628023  \n",
       "15   49.915393   30.912751   51.971616  \n",
       "18    7.485544   97.424188   56.108846  \n",
       "..         ...         ...         ...  \n",
       "240  37.589082  170.648618   41.252680  \n",
       "243  28.508548   51.514417   20.139356  \n",
       "246  34.010085   43.089468   90.310230  \n",
       "249  87.808752   68.750718   89.222951  \n",
       "252  82.507321   39.787631  100.082887  \n",
       "\n",
       "[539 rows x 11 columns]"
      ]
     },
     "execution_count": 10,
     "metadata": {},
     "output_type": "execute_result"
    }
   ],
   "source": [
    "# training only 10 significant feature\n",
    "\n",
    "new_df.drop(columns=['aY', 'aZ', 'mDirection', 'mX', 'mY', 'mZ', 'aX_std', 'aY_std', 'mDirection_std', 'mX_std', 'mY_std', 'mZ_std'], inplace=True)\n",
    "new_df"
   ]
  },
  {
   "cell_type": "code",
   "execution_count": 11,
   "metadata": {},
   "outputs": [
    {
     "data": {
      "text/plain": [
       "0.0    359\n",
       "1.0    170\n",
       "0.6      4\n",
       "0.2      2\n",
       "0.8      2\n",
       "0.4      2\n",
       "Name: label, dtype: int64"
      ]
     },
     "execution_count": 11,
     "metadata": {},
     "output_type": "execute_result"
    }
   ],
   "source": [
    "new_df.label.value_counts()"
   ]
  },
  {
   "cell_type": "code",
   "execution_count": 12,
   "metadata": {},
   "outputs": [],
   "source": [
    "new_df['label'] = new_df['label'].apply(lambda x: 1 if x > 0.5 else 0)"
   ]
  },
  {
   "cell_type": "code",
   "execution_count": 13,
   "metadata": {},
   "outputs": [
    {
     "data": {
      "text/plain": [
       "0    363\n",
       "1    176\n",
       "Name: label, dtype: int64"
      ]
     },
     "execution_count": 13,
     "metadata": {},
     "output_type": "execute_result"
    }
   ],
   "source": [
    "new_df.label.value_counts()"
   ]
  },
  {
   "cell_type": "markdown",
   "metadata": {},
   "source": [
    "# Hyperparameter Tuning"
   ]
  },
  {
   "cell_type": "code",
   "execution_count": 14,
   "metadata": {},
   "outputs": [
    {
     "data": {
      "text/plain": [
       "((431, 10), (108, 10), (431,), (108,))"
      ]
     },
     "execution_count": 14,
     "metadata": {},
     "output_type": "execute_result"
    }
   ],
   "source": [
    "X = new_df.drop(columns=\"label\")\n",
    "y = new_df.label\n",
    "\n",
    "X_train, X_test, y_train, y_test = train_test_split(X, y, test_size=0.2, stratify=y, random_state=42)\n",
    "X_train.shape, X_test.shape, y_train.shape, y_test.shape"
   ]
  },
  {
   "cell_type": "code",
   "execution_count": 15,
   "metadata": {},
   "outputs": [],
   "source": [
    "from sklearn.ensemble import RandomForestClassifier\n",
    "pipeline = Pipeline([\n",
    "    ('algo', RandomForestClassifier(n_jobs=-1, random_state=42))\n",
    "])"
   ]
  },
  {
   "cell_type": "code",
   "execution_count": 16,
   "metadata": {},
   "outputs": [
    {
     "name": "stdout",
     "output_type": "stream",
     "text": [
      "Fitting 5 folds for each of 1 candidates, totalling 5 fits\n"
     ]
    },
    {
     "name": "stderr",
     "output_type": "stream",
     "text": [
      "[Parallel(n_jobs=-1)]: Using backend LokyBackend with 2 concurrent workers.\n",
      "[Parallel(n_jobs=-1)]: Done   5 out of   5 | elapsed:    7.5s finished\n",
      "[Parallel(n_jobs=-1)]: Using backend LokyBackend with 2 concurrent workers.\n"
     ]
    },
    {
     "name": "stdout",
     "output_type": "stream",
     "text": [
      "Fitting 5 folds for each of 1 candidates, totalling 5 fits\n"
     ]
    },
    {
     "name": "stderr",
     "output_type": "stream",
     "text": [
      "[Parallel(n_jobs=-1)]: Done   5 out of   5 | elapsed:    4.4s finished\n",
      "[Parallel(n_jobs=-1)]: Using backend LokyBackend with 2 concurrent workers.\n"
     ]
    },
    {
     "name": "stdout",
     "output_type": "stream",
     "text": [
      "Fitting 5 folds for each of 1 candidates, totalling 5 fits\n"
     ]
    },
    {
     "name": "stderr",
     "output_type": "stream",
     "text": [
      "[Parallel(n_jobs=-1)]: Done   5 out of   5 | elapsed:    4.9s finished\n",
      "[Parallel(n_jobs=-1)]: Using backend LokyBackend with 2 concurrent workers.\n"
     ]
    },
    {
     "name": "stdout",
     "output_type": "stream",
     "text": [
      "Fitting 5 folds for each of 1 candidates, totalling 5 fits\n"
     ]
    },
    {
     "name": "stderr",
     "output_type": "stream",
     "text": [
      "[Parallel(n_jobs=-1)]: Done   5 out of   5 | elapsed:    4.0s finished\n",
      "[Parallel(n_jobs=-1)]: Using backend LokyBackend with 2 concurrent workers.\n"
     ]
    },
    {
     "name": "stdout",
     "output_type": "stream",
     "text": [
      "Fitting 5 folds for each of 1 candidates, totalling 5 fits\n"
     ]
    },
    {
     "name": "stderr",
     "output_type": "stream",
     "text": [
      "[Parallel(n_jobs=-1)]: Done   5 out of   5 | elapsed:    6.1s finished\n",
      "[Parallel(n_jobs=-1)]: Using backend LokyBackend with 2 concurrent workers.\n"
     ]
    },
    {
     "name": "stdout",
     "output_type": "stream",
     "text": [
      "Fitting 5 folds for each of 1 candidates, totalling 5 fits\n"
     ]
    },
    {
     "name": "stderr",
     "output_type": "stream",
     "text": [
      "[Parallel(n_jobs=-1)]: Done   5 out of   5 | elapsed:    3.4s finished\n",
      "[Parallel(n_jobs=-1)]: Using backend LokyBackend with 2 concurrent workers.\n"
     ]
    },
    {
     "name": "stdout",
     "output_type": "stream",
     "text": [
      "Fitting 5 folds for each of 1 candidates, totalling 5 fits\n"
     ]
    },
    {
     "name": "stderr",
     "output_type": "stream",
     "text": [
      "[Parallel(n_jobs=-1)]: Done   5 out of   5 | elapsed:    5.0s finished\n",
      "[Parallel(n_jobs=-1)]: Using backend LokyBackend with 2 concurrent workers.\n"
     ]
    },
    {
     "name": "stdout",
     "output_type": "stream",
     "text": [
      "Fitting 5 folds for each of 1 candidates, totalling 5 fits\n"
     ]
    },
    {
     "name": "stderr",
     "output_type": "stream",
     "text": [
      "[Parallel(n_jobs=-1)]: Done   5 out of   5 | elapsed:    6.1s finished\n",
      "[Parallel(n_jobs=-1)]: Using backend LokyBackend with 2 concurrent workers.\n"
     ]
    },
    {
     "name": "stdout",
     "output_type": "stream",
     "text": [
      "Fitting 5 folds for each of 1 candidates, totalling 5 fits\n"
     ]
    },
    {
     "name": "stderr",
     "output_type": "stream",
     "text": [
      "[Parallel(n_jobs=-1)]: Done   5 out of   5 | elapsed:    5.0s finished\n"
     ]
    },
    {
     "name": "stdout",
     "output_type": "stream",
     "text": [
      "Fitting 5 folds for each of 1 candidates, totalling 5 fits\n"
     ]
    },
    {
     "name": "stderr",
     "output_type": "stream",
     "text": [
      "[Parallel(n_jobs=-1)]: Using backend LokyBackend with 2 concurrent workers.\n",
      "[Parallel(n_jobs=-1)]: Done   5 out of   5 | elapsed:    2.9s finished\n"
     ]
    },
    {
     "name": "stdout",
     "output_type": "stream",
     "text": [
      "Fitting 5 folds for each of 1 candidates, totalling 5 fits\n"
     ]
    },
    {
     "name": "stderr",
     "output_type": "stream",
     "text": [
      "[Parallel(n_jobs=-1)]: Using backend LokyBackend with 2 concurrent workers.\n",
      "[Parallel(n_jobs=-1)]: Done   5 out of   5 | elapsed:    2.5s finished\n"
     ]
    },
    {
     "name": "stdout",
     "output_type": "stream",
     "text": [
      "Fitting 5 folds for each of 1 candidates, totalling 5 fits\n"
     ]
    },
    {
     "name": "stderr",
     "output_type": "stream",
     "text": [
      "[Parallel(n_jobs=-1)]: Using backend LokyBackend with 2 concurrent workers.\n",
      "[Parallel(n_jobs=-1)]: Done   5 out of   5 | elapsed:    3.7s finished\n"
     ]
    },
    {
     "name": "stdout",
     "output_type": "stream",
     "text": [
      "Fitting 5 folds for each of 1 candidates, totalling 5 fits\n"
     ]
    },
    {
     "name": "stderr",
     "output_type": "stream",
     "text": [
      "[Parallel(n_jobs=-1)]: Using backend LokyBackend with 2 concurrent workers.\n",
      "[Parallel(n_jobs=-1)]: Done   5 out of   5 | elapsed:    3.6s finished\n"
     ]
    },
    {
     "name": "stdout",
     "output_type": "stream",
     "text": [
      "Fitting 5 folds for each of 1 candidates, totalling 5 fits\n"
     ]
    },
    {
     "name": "stderr",
     "output_type": "stream",
     "text": [
      "[Parallel(n_jobs=-1)]: Using backend LokyBackend with 2 concurrent workers.\n",
      "[Parallel(n_jobs=-1)]: Done   5 out of   5 | elapsed:    3.2s finished\n"
     ]
    },
    {
     "name": "stdout",
     "output_type": "stream",
     "text": [
      "Fitting 5 folds for each of 1 candidates, totalling 5 fits\n"
     ]
    },
    {
     "name": "stderr",
     "output_type": "stream",
     "text": [
      "[Parallel(n_jobs=-1)]: Using backend LokyBackend with 2 concurrent workers.\n",
      "[Parallel(n_jobs=-1)]: Done   5 out of   5 | elapsed:    3.5s finished\n"
     ]
    },
    {
     "name": "stdout",
     "output_type": "stream",
     "text": [
      "Fitting 5 folds for each of 1 candidates, totalling 5 fits\n"
     ]
    },
    {
     "name": "stderr",
     "output_type": "stream",
     "text": [
      "[Parallel(n_jobs=-1)]: Using backend LokyBackend with 2 concurrent workers.\n",
      "[Parallel(n_jobs=-1)]: Done   5 out of   5 | elapsed:    2.6s finished\n"
     ]
    },
    {
     "name": "stdout",
     "output_type": "stream",
     "text": [
      "Fitting 5 folds for each of 1 candidates, totalling 5 fits\n"
     ]
    },
    {
     "name": "stderr",
     "output_type": "stream",
     "text": [
      "[Parallel(n_jobs=-1)]: Using backend LokyBackend with 2 concurrent workers.\n",
      "[Parallel(n_jobs=-1)]: Done   5 out of   5 | elapsed:    4.2s finished\n"
     ]
    },
    {
     "name": "stdout",
     "output_type": "stream",
     "text": [
      "Fitting 5 folds for each of 1 candidates, totalling 5 fits\n"
     ]
    },
    {
     "name": "stderr",
     "output_type": "stream",
     "text": [
      "[Parallel(n_jobs=-1)]: Using backend LokyBackend with 2 concurrent workers.\n",
      "[Parallel(n_jobs=-1)]: Done   5 out of   5 | elapsed:    3.1s finished\n"
     ]
    },
    {
     "name": "stdout",
     "output_type": "stream",
     "text": [
      "Fitting 5 folds for each of 1 candidates, totalling 5 fits\n"
     ]
    },
    {
     "name": "stderr",
     "output_type": "stream",
     "text": [
      "[Parallel(n_jobs=-1)]: Using backend LokyBackend with 2 concurrent workers.\n",
      "[Parallel(n_jobs=-1)]: Done   5 out of   5 | elapsed:    2.6s finished\n"
     ]
    },
    {
     "name": "stdout",
     "output_type": "stream",
     "text": [
      "Fitting 5 folds for each of 1 candidates, totalling 5 fits\n"
     ]
    },
    {
     "name": "stderr",
     "output_type": "stream",
     "text": [
      "[Parallel(n_jobs=-1)]: Using backend LokyBackend with 2 concurrent workers.\n",
      "[Parallel(n_jobs=-1)]: Done   5 out of   5 | elapsed:    2.2s finished\n"
     ]
    },
    {
     "name": "stdout",
     "output_type": "stream",
     "text": [
      "Fitting 5 folds for each of 1 candidates, totalling 5 fits\n"
     ]
    },
    {
     "name": "stderr",
     "output_type": "stream",
     "text": [
      "[Parallel(n_jobs=-1)]: Using backend LokyBackend with 2 concurrent workers.\n",
      "[Parallel(n_jobs=-1)]: Done   5 out of   5 | elapsed:    2.8s finished\n"
     ]
    },
    {
     "name": "stdout",
     "output_type": "stream",
     "text": [
      "Fitting 5 folds for each of 1 candidates, totalling 5 fits\n"
     ]
    },
    {
     "name": "stderr",
     "output_type": "stream",
     "text": [
      "[Parallel(n_jobs=-1)]: Using backend LokyBackend with 2 concurrent workers.\n",
      "[Parallel(n_jobs=-1)]: Done   5 out of   5 | elapsed:    4.9s finished\n"
     ]
    },
    {
     "name": "stdout",
     "output_type": "stream",
     "text": [
      "Fitting 5 folds for each of 1 candidates, totalling 5 fits\n"
     ]
    },
    {
     "name": "stderr",
     "output_type": "stream",
     "text": [
      "[Parallel(n_jobs=-1)]: Using backend LokyBackend with 2 concurrent workers.\n",
      "[Parallel(n_jobs=-1)]: Done   5 out of   5 | elapsed:    4.4s finished\n"
     ]
    },
    {
     "name": "stdout",
     "output_type": "stream",
     "text": [
      "Fitting 5 folds for each of 1 candidates, totalling 5 fits\n"
     ]
    },
    {
     "name": "stderr",
     "output_type": "stream",
     "text": [
      "[Parallel(n_jobs=-1)]: Using backend LokyBackend with 2 concurrent workers.\n",
      "[Parallel(n_jobs=-1)]: Done   5 out of   5 | elapsed:    4.6s finished\n"
     ]
    },
    {
     "name": "stdout",
     "output_type": "stream",
     "text": [
      "Fitting 5 folds for each of 1 candidates, totalling 5 fits\n"
     ]
    },
    {
     "name": "stderr",
     "output_type": "stream",
     "text": [
      "[Parallel(n_jobs=-1)]: Using backend LokyBackend with 2 concurrent workers.\n",
      "[Parallel(n_jobs=-1)]: Done   5 out of   5 | elapsed:    3.3s finished\n"
     ]
    },
    {
     "name": "stdout",
     "output_type": "stream",
     "text": [
      "Fitting 5 folds for each of 1 candidates, totalling 5 fits\n"
     ]
    },
    {
     "name": "stderr",
     "output_type": "stream",
     "text": [
      "[Parallel(n_jobs=-1)]: Using backend LokyBackend with 2 concurrent workers.\n",
      "[Parallel(n_jobs=-1)]: Done   5 out of   5 | elapsed:    2.0s finished\n"
     ]
    },
    {
     "name": "stdout",
     "output_type": "stream",
     "text": [
      "Fitting 5 folds for each of 1 candidates, totalling 5 fits\n"
     ]
    },
    {
     "name": "stderr",
     "output_type": "stream",
     "text": [
      "[Parallel(n_jobs=-1)]: Using backend LokyBackend with 2 concurrent workers.\n",
      "[Parallel(n_jobs=-1)]: Done   5 out of   5 | elapsed:    3.5s finished\n"
     ]
    },
    {
     "name": "stdout",
     "output_type": "stream",
     "text": [
      "Fitting 5 folds for each of 1 candidates, totalling 5 fits\n"
     ]
    },
    {
     "name": "stderr",
     "output_type": "stream",
     "text": [
      "[Parallel(n_jobs=-1)]: Using backend LokyBackend with 2 concurrent workers.\n",
      "[Parallel(n_jobs=-1)]: Done   5 out of   5 | elapsed:    6.0s finished\n"
     ]
    },
    {
     "name": "stdout",
     "output_type": "stream",
     "text": [
      "Fitting 5 folds for each of 1 candidates, totalling 5 fits\n"
     ]
    },
    {
     "name": "stderr",
     "output_type": "stream",
     "text": [
      "[Parallel(n_jobs=-1)]: Using backend LokyBackend with 2 concurrent workers.\n",
      "[Parallel(n_jobs=-1)]: Done   5 out of   5 | elapsed:    3.2s finished\n"
     ]
    },
    {
     "name": "stdout",
     "output_type": "stream",
     "text": [
      "Fitting 5 folds for each of 1 candidates, totalling 5 fits\n"
     ]
    },
    {
     "name": "stderr",
     "output_type": "stream",
     "text": [
      "[Parallel(n_jobs=-1)]: Using backend LokyBackend with 2 concurrent workers.\n",
      "[Parallel(n_jobs=-1)]: Done   5 out of   5 | elapsed:    2.2s finished\n"
     ]
    },
    {
     "name": "stdout",
     "output_type": "stream",
     "text": [
      "Fitting 5 folds for each of 1 candidates, totalling 5 fits\n"
     ]
    },
    {
     "name": "stderr",
     "output_type": "stream",
     "text": [
      "[Parallel(n_jobs=-1)]: Using backend LokyBackend with 2 concurrent workers.\n",
      "[Parallel(n_jobs=-1)]: Done   5 out of   5 | elapsed:    4.5s finished\n"
     ]
    },
    {
     "name": "stdout",
     "output_type": "stream",
     "text": [
      "Fitting 5 folds for each of 1 candidates, totalling 5 fits\n"
     ]
    },
    {
     "name": "stderr",
     "output_type": "stream",
     "text": [
      "[Parallel(n_jobs=-1)]: Using backend LokyBackend with 2 concurrent workers.\n",
      "[Parallel(n_jobs=-1)]: Done   5 out of   5 | elapsed:    4.1s finished\n"
     ]
    },
    {
     "name": "stdout",
     "output_type": "stream",
     "text": [
      "Fitting 5 folds for each of 1 candidates, totalling 5 fits\n"
     ]
    },
    {
     "name": "stderr",
     "output_type": "stream",
     "text": [
      "[Parallel(n_jobs=-1)]: Using backend LokyBackend with 2 concurrent workers.\n",
      "[Parallel(n_jobs=-1)]: Done   5 out of   5 | elapsed:    4.7s finished\n"
     ]
    },
    {
     "name": "stdout",
     "output_type": "stream",
     "text": [
      "Fitting 5 folds for each of 1 candidates, totalling 5 fits\n"
     ]
    },
    {
     "name": "stderr",
     "output_type": "stream",
     "text": [
      "[Parallel(n_jobs=-1)]: Using backend LokyBackend with 2 concurrent workers.\n",
      "[Parallel(n_jobs=-1)]: Done   5 out of   5 | elapsed:    3.3s finished\n"
     ]
    },
    {
     "name": "stdout",
     "output_type": "stream",
     "text": [
      "Fitting 5 folds for each of 1 candidates, totalling 5 fits\n"
     ]
    },
    {
     "name": "stderr",
     "output_type": "stream",
     "text": [
      "[Parallel(n_jobs=-1)]: Using backend LokyBackend with 2 concurrent workers.\n",
      "[Parallel(n_jobs=-1)]: Done   5 out of   5 | elapsed:    4.1s finished\n"
     ]
    },
    {
     "name": "stdout",
     "output_type": "stream",
     "text": [
      "Fitting 5 folds for each of 1 candidates, totalling 5 fits\n"
     ]
    },
    {
     "name": "stderr",
     "output_type": "stream",
     "text": [
      "[Parallel(n_jobs=-1)]: Using backend LokyBackend with 2 concurrent workers.\n",
      "[Parallel(n_jobs=-1)]: Done   5 out of   5 | elapsed:    5.2s finished\n"
     ]
    },
    {
     "name": "stdout",
     "output_type": "stream",
     "text": [
      "Fitting 5 folds for each of 1 candidates, totalling 5 fits\n"
     ]
    },
    {
     "name": "stderr",
     "output_type": "stream",
     "text": [
      "[Parallel(n_jobs=-1)]: Using backend LokyBackend with 2 concurrent workers.\n",
      "[Parallel(n_jobs=-1)]: Done   5 out of   5 | elapsed:    4.7s finished\n"
     ]
    },
    {
     "name": "stdout",
     "output_type": "stream",
     "text": [
      "Fitting 5 folds for each of 1 candidates, totalling 5 fits\n"
     ]
    },
    {
     "name": "stderr",
     "output_type": "stream",
     "text": [
      "[Parallel(n_jobs=-1)]: Using backend LokyBackend with 2 concurrent workers.\n",
      "[Parallel(n_jobs=-1)]: Done   5 out of   5 | elapsed:    4.2s finished\n"
     ]
    },
    {
     "name": "stdout",
     "output_type": "stream",
     "text": [
      "Fitting 5 folds for each of 1 candidates, totalling 5 fits\n"
     ]
    },
    {
     "name": "stderr",
     "output_type": "stream",
     "text": [
      "[Parallel(n_jobs=-1)]: Using backend LokyBackend with 2 concurrent workers.\n",
      "[Parallel(n_jobs=-1)]: Done   5 out of   5 | elapsed:    3.3s finished\n"
     ]
    },
    {
     "name": "stdout",
     "output_type": "stream",
     "text": [
      "Fitting 5 folds for each of 1 candidates, totalling 5 fits\n"
     ]
    },
    {
     "name": "stderr",
     "output_type": "stream",
     "text": [
      "[Parallel(n_jobs=-1)]: Using backend LokyBackend with 2 concurrent workers.\n",
      "[Parallel(n_jobs=-1)]: Done   5 out of   5 | elapsed:    3.4s finished\n"
     ]
    },
    {
     "name": "stdout",
     "output_type": "stream",
     "text": [
      "Fitting 5 folds for each of 1 candidates, totalling 5 fits\n"
     ]
    },
    {
     "name": "stderr",
     "output_type": "stream",
     "text": [
      "[Parallel(n_jobs=-1)]: Using backend LokyBackend with 2 concurrent workers.\n",
      "[Parallel(n_jobs=-1)]: Done   5 out of   5 | elapsed:    4.0s finished\n"
     ]
    },
    {
     "name": "stdout",
     "output_type": "stream",
     "text": [
      "Fitting 5 folds for each of 1 candidates, totalling 5 fits\n"
     ]
    },
    {
     "name": "stderr",
     "output_type": "stream",
     "text": [
      "[Parallel(n_jobs=-1)]: Using backend LokyBackend with 2 concurrent workers.\n",
      "[Parallel(n_jobs=-1)]: Done   5 out of   5 | elapsed:    4.0s finished\n"
     ]
    },
    {
     "name": "stdout",
     "output_type": "stream",
     "text": [
      "Fitting 5 folds for each of 1 candidates, totalling 5 fits\n"
     ]
    },
    {
     "name": "stderr",
     "output_type": "stream",
     "text": [
      "[Parallel(n_jobs=-1)]: Using backend LokyBackend with 2 concurrent workers.\n",
      "[Parallel(n_jobs=-1)]: Done   5 out of   5 | elapsed:    4.3s finished\n"
     ]
    },
    {
     "name": "stdout",
     "output_type": "stream",
     "text": [
      "Fitting 5 folds for each of 1 candidates, totalling 5 fits\n"
     ]
    },
    {
     "name": "stderr",
     "output_type": "stream",
     "text": [
      "[Parallel(n_jobs=-1)]: Using backend LokyBackend with 2 concurrent workers.\n",
      "[Parallel(n_jobs=-1)]: Done   5 out of   5 | elapsed:    2.7s finished\n"
     ]
    },
    {
     "name": "stdout",
     "output_type": "stream",
     "text": [
      "Fitting 5 folds for each of 1 candidates, totalling 5 fits\n"
     ]
    },
    {
     "name": "stderr",
     "output_type": "stream",
     "text": [
      "[Parallel(n_jobs=-1)]: Using backend LokyBackend with 2 concurrent workers.\n",
      "[Parallel(n_jobs=-1)]: Done   5 out of   5 | elapsed:    3.8s finished\n"
     ]
    },
    {
     "name": "stdout",
     "output_type": "stream",
     "text": [
      "Fitting 5 folds for each of 1 candidates, totalling 5 fits\n"
     ]
    },
    {
     "name": "stderr",
     "output_type": "stream",
     "text": [
      "[Parallel(n_jobs=-1)]: Using backend LokyBackend with 2 concurrent workers.\n",
      "[Parallel(n_jobs=-1)]: Done   5 out of   5 | elapsed:    3.5s finished\n"
     ]
    },
    {
     "name": "stdout",
     "output_type": "stream",
     "text": [
      "Fitting 5 folds for each of 1 candidates, totalling 5 fits\n"
     ]
    },
    {
     "name": "stderr",
     "output_type": "stream",
     "text": [
      "[Parallel(n_jobs=-1)]: Using backend LokyBackend with 2 concurrent workers.\n",
      "[Parallel(n_jobs=-1)]: Done   5 out of   5 | elapsed:    2.5s finished\n"
     ]
    },
    {
     "name": "stdout",
     "output_type": "stream",
     "text": [
      "Fitting 5 folds for each of 1 candidates, totalling 5 fits\n"
     ]
    },
    {
     "name": "stderr",
     "output_type": "stream",
     "text": [
      "[Parallel(n_jobs=-1)]: Using backend LokyBackend with 2 concurrent workers.\n",
      "[Parallel(n_jobs=-1)]: Done   5 out of   5 | elapsed:    2.8s finished\n"
     ]
    },
    {
     "name": "stdout",
     "output_type": "stream",
     "text": [
      "Fitting 5 folds for each of 1 candidates, totalling 5 fits\n"
     ]
    },
    {
     "name": "stderr",
     "output_type": "stream",
     "text": [
      "[Parallel(n_jobs=-1)]: Using backend LokyBackend with 2 concurrent workers.\n",
      "[Parallel(n_jobs=-1)]: Done   5 out of   5 | elapsed:    3.2s finished\n"
     ]
    },
    {
     "name": "stdout",
     "output_type": "stream",
     "text": [
      "Fitting 5 folds for each of 1 candidates, totalling 5 fits\n"
     ]
    },
    {
     "name": "stderr",
     "output_type": "stream",
     "text": [
      "[Parallel(n_jobs=-1)]: Using backend LokyBackend with 2 concurrent workers.\n",
      "[Parallel(n_jobs=-1)]: Done   5 out of   5 | elapsed:    4.2s finished\n"
     ]
    },
    {
     "name": "stdout",
     "output_type": "stream",
     "text": [
      "Fitting 5 folds for each of 1 candidates, totalling 5 fits\n"
     ]
    },
    {
     "name": "stderr",
     "output_type": "stream",
     "text": [
      "[Parallel(n_jobs=-1)]: Using backend LokyBackend with 2 concurrent workers.\n",
      "[Parallel(n_jobs=-1)]: Done   5 out of   5 | elapsed:    2.4s finished\n"
     ]
    },
    {
     "name": "stdout",
     "output_type": "stream",
     "text": [
      "Fitting 5 folds for each of 1 candidates, totalling 5 fits\n"
     ]
    },
    {
     "name": "stderr",
     "output_type": "stream",
     "text": [
      "[Parallel(n_jobs=-1)]: Using backend LokyBackend with 2 concurrent workers.\n",
      "[Parallel(n_jobs=-1)]: Done   5 out of   5 | elapsed:    3.6s finished\n"
     ]
    },
    {
     "name": "stdout",
     "output_type": "stream",
     "text": [
      "Fitting 5 folds for each of 1 candidates, totalling 5 fits\n"
     ]
    },
    {
     "name": "stderr",
     "output_type": "stream",
     "text": [
      "[Parallel(n_jobs=-1)]: Using backend LokyBackend with 2 concurrent workers.\n",
      "[Parallel(n_jobs=-1)]: Done   5 out of   5 | elapsed:    4.4s finished\n",
      "D:\\MUTHIA\\Anaconda\\envs\\jcopml\\lib\\site-packages\\skopt\\optimizer\\optimizer.py:409: UserWarning: The objective has been evaluated at this point before.\n",
      "  warnings.warn(\"The objective has been evaluated \"\n"
     ]
    },
    {
     "name": "stdout",
     "output_type": "stream",
     "text": [
      "Fitting 5 folds for each of 1 candidates, totalling 5 fits\n"
     ]
    },
    {
     "name": "stderr",
     "output_type": "stream",
     "text": [
      "[Parallel(n_jobs=-1)]: Using backend LokyBackend with 2 concurrent workers.\n",
      "[Parallel(n_jobs=-1)]: Done   5 out of   5 | elapsed:    3.1s finished\n",
      "D:\\MUTHIA\\Anaconda\\envs\\jcopml\\lib\\site-packages\\skopt\\optimizer\\optimizer.py:409: UserWarning: The objective has been evaluated at this point before.\n",
      "  warnings.warn(\"The objective has been evaluated \"\n"
     ]
    },
    {
     "name": "stdout",
     "output_type": "stream",
     "text": [
      "Fitting 5 folds for each of 1 candidates, totalling 5 fits\n"
     ]
    },
    {
     "name": "stderr",
     "output_type": "stream",
     "text": [
      "[Parallel(n_jobs=-1)]: Using backend LokyBackend with 2 concurrent workers.\n",
      "[Parallel(n_jobs=-1)]: Done   5 out of   5 | elapsed:    4.8s finished\n",
      "D:\\MUTHIA\\Anaconda\\envs\\jcopml\\lib\\site-packages\\skopt\\optimizer\\optimizer.py:409: UserWarning: The objective has been evaluated at this point before.\n",
      "  warnings.warn(\"The objective has been evaluated \"\n"
     ]
    },
    {
     "name": "stdout",
     "output_type": "stream",
     "text": [
      "Fitting 5 folds for each of 1 candidates, totalling 5 fits\n"
     ]
    },
    {
     "name": "stderr",
     "output_type": "stream",
     "text": [
      "[Parallel(n_jobs=-1)]: Using backend LokyBackend with 2 concurrent workers.\n",
      "[Parallel(n_jobs=-1)]: Done   5 out of   5 | elapsed:    4.5s finished\n",
      "D:\\MUTHIA\\Anaconda\\envs\\jcopml\\lib\\site-packages\\skopt\\optimizer\\optimizer.py:409: UserWarning: The objective has been evaluated at this point before.\n",
      "  warnings.warn(\"The objective has been evaluated \"\n"
     ]
    },
    {
     "name": "stdout",
     "output_type": "stream",
     "text": [
      "Fitting 5 folds for each of 1 candidates, totalling 5 fits\n"
     ]
    },
    {
     "name": "stderr",
     "output_type": "stream",
     "text": [
      "[Parallel(n_jobs=-1)]: Using backend LokyBackend with 2 concurrent workers.\n",
      "[Parallel(n_jobs=-1)]: Done   5 out of   5 | elapsed:    4.9s finished\n"
     ]
    },
    {
     "name": "stdout",
     "output_type": "stream",
     "text": [
      "Fitting 5 folds for each of 1 candidates, totalling 5 fits\n"
     ]
    },
    {
     "name": "stderr",
     "output_type": "stream",
     "text": [
      "[Parallel(n_jobs=-1)]: Using backend LokyBackend with 2 concurrent workers.\n",
      "[Parallel(n_jobs=-1)]: Done   5 out of   5 | elapsed:    5.8s finished\n",
      "D:\\MUTHIA\\Anaconda\\envs\\jcopml\\lib\\site-packages\\skopt\\optimizer\\optimizer.py:409: UserWarning: The objective has been evaluated at this point before.\n",
      "  warnings.warn(\"The objective has been evaluated \"\n"
     ]
    },
    {
     "name": "stdout",
     "output_type": "stream",
     "text": [
      "Fitting 5 folds for each of 1 candidates, totalling 5 fits\n"
     ]
    },
    {
     "name": "stderr",
     "output_type": "stream",
     "text": [
      "[Parallel(n_jobs=-1)]: Using backend LokyBackend with 2 concurrent workers.\n",
      "[Parallel(n_jobs=-1)]: Done   5 out of   5 | elapsed:    4.3s finished\n",
      "D:\\MUTHIA\\Anaconda\\envs\\jcopml\\lib\\site-packages\\skopt\\optimizer\\optimizer.py:409: UserWarning: The objective has been evaluated at this point before.\n",
      "  warnings.warn(\"The objective has been evaluated \"\n"
     ]
    },
    {
     "name": "stdout",
     "output_type": "stream",
     "text": [
      "Fitting 5 folds for each of 1 candidates, totalling 5 fits\n"
     ]
    },
    {
     "name": "stderr",
     "output_type": "stream",
     "text": [
      "[Parallel(n_jobs=-1)]: Using backend LokyBackend with 2 concurrent workers.\n",
      "[Parallel(n_jobs=-1)]: Done   5 out of   5 | elapsed:    4.4s finished\n",
      "D:\\MUTHIA\\Anaconda\\envs\\jcopml\\lib\\site-packages\\skopt\\optimizer\\optimizer.py:409: UserWarning: The objective has been evaluated at this point before.\n",
      "  warnings.warn(\"The objective has been evaluated \"\n"
     ]
    },
    {
     "name": "stdout",
     "output_type": "stream",
     "text": [
      "Fitting 5 folds for each of 1 candidates, totalling 5 fits\n"
     ]
    },
    {
     "name": "stderr",
     "output_type": "stream",
     "text": [
      "[Parallel(n_jobs=-1)]: Using backend LokyBackend with 2 concurrent workers.\n",
      "[Parallel(n_jobs=-1)]: Done   5 out of   5 | elapsed:    3.7s finished\n",
      "D:\\MUTHIA\\Anaconda\\envs\\jcopml\\lib\\site-packages\\skopt\\optimizer\\optimizer.py:409: UserWarning: The objective has been evaluated at this point before.\n",
      "  warnings.warn(\"The objective has been evaluated \"\n"
     ]
    },
    {
     "name": "stdout",
     "output_type": "stream",
     "text": [
      "Fitting 5 folds for each of 1 candidates, totalling 5 fits\n"
     ]
    },
    {
     "name": "stderr",
     "output_type": "stream",
     "text": [
      "[Parallel(n_jobs=-1)]: Using backend LokyBackend with 2 concurrent workers.\n",
      "[Parallel(n_jobs=-1)]: Done   5 out of   5 | elapsed:    4.2s finished\n",
      "D:\\MUTHIA\\Anaconda\\envs\\jcopml\\lib\\site-packages\\skopt\\optimizer\\optimizer.py:409: UserWarning: The objective has been evaluated at this point before.\n",
      "  warnings.warn(\"The objective has been evaluated \"\n"
     ]
    },
    {
     "name": "stdout",
     "output_type": "stream",
     "text": [
      "Fitting 5 folds for each of 1 candidates, totalling 5 fits\n"
     ]
    },
    {
     "name": "stderr",
     "output_type": "stream",
     "text": [
      "[Parallel(n_jobs=-1)]: Using backend LokyBackend with 2 concurrent workers.\n",
      "[Parallel(n_jobs=-1)]: Done   5 out of   5 | elapsed:    4.3s finished\n",
      "D:\\MUTHIA\\Anaconda\\envs\\jcopml\\lib\\site-packages\\skopt\\optimizer\\optimizer.py:409: UserWarning: The objective has been evaluated at this point before.\n",
      "  warnings.warn(\"The objective has been evaluated \"\n"
     ]
    },
    {
     "name": "stdout",
     "output_type": "stream",
     "text": [
      "Fitting 5 folds for each of 1 candidates, totalling 5 fits\n"
     ]
    },
    {
     "name": "stderr",
     "output_type": "stream",
     "text": [
      "[Parallel(n_jobs=-1)]: Using backend LokyBackend with 2 concurrent workers.\n",
      "[Parallel(n_jobs=-1)]: Done   5 out of   5 | elapsed:    3.7s finished\n",
      "D:\\MUTHIA\\Anaconda\\envs\\jcopml\\lib\\site-packages\\skopt\\optimizer\\optimizer.py:409: UserWarning: The objective has been evaluated at this point before.\n",
      "  warnings.warn(\"The objective has been evaluated \"\n"
     ]
    },
    {
     "name": "stdout",
     "output_type": "stream",
     "text": [
      "Fitting 5 folds for each of 1 candidates, totalling 5 fits\n"
     ]
    },
    {
     "name": "stderr",
     "output_type": "stream",
     "text": [
      "[Parallel(n_jobs=-1)]: Using backend LokyBackend with 2 concurrent workers.\n",
      "[Parallel(n_jobs=-1)]: Done   5 out of   5 | elapsed:    3.7s finished\n"
     ]
    },
    {
     "name": "stdout",
     "output_type": "stream",
     "text": [
      "Fitting 5 folds for each of 1 candidates, totalling 5 fits\n"
     ]
    },
    {
     "name": "stderr",
     "output_type": "stream",
     "text": [
      "[Parallel(n_jobs=-1)]: Using backend LokyBackend with 2 concurrent workers.\n",
      "[Parallel(n_jobs=-1)]: Done   5 out of   5 | elapsed:    4.8s finished\n"
     ]
    },
    {
     "name": "stdout",
     "output_type": "stream",
     "text": [
      "Fitting 5 folds for each of 1 candidates, totalling 5 fits\n"
     ]
    },
    {
     "name": "stderr",
     "output_type": "stream",
     "text": [
      "[Parallel(n_jobs=-1)]: Using backend LokyBackend with 2 concurrent workers.\n",
      "[Parallel(n_jobs=-1)]: Done   5 out of   5 | elapsed:    2.5s finished\n"
     ]
    },
    {
     "name": "stdout",
     "output_type": "stream",
     "text": [
      "Fitting 5 folds for each of 1 candidates, totalling 5 fits\n"
     ]
    },
    {
     "name": "stderr",
     "output_type": "stream",
     "text": [
      "[Parallel(n_jobs=-1)]: Using backend LokyBackend with 2 concurrent workers.\n",
      "[Parallel(n_jobs=-1)]: Done   5 out of   5 | elapsed:    2.4s finished\n"
     ]
    },
    {
     "name": "stdout",
     "output_type": "stream",
     "text": [
      "Fitting 5 folds for each of 1 candidates, totalling 5 fits\n"
     ]
    },
    {
     "name": "stderr",
     "output_type": "stream",
     "text": [
      "[Parallel(n_jobs=-1)]: Using backend LokyBackend with 2 concurrent workers.\n",
      "[Parallel(n_jobs=-1)]: Done   5 out of   5 | elapsed:    4.0s finished\n",
      "D:\\MUTHIA\\Anaconda\\envs\\jcopml\\lib\\site-packages\\skopt\\optimizer\\optimizer.py:409: UserWarning: The objective has been evaluated at this point before.\n",
      "  warnings.warn(\"The objective has been evaluated \"\n"
     ]
    },
    {
     "name": "stdout",
     "output_type": "stream",
     "text": [
      "Fitting 5 folds for each of 1 candidates, totalling 5 fits\n"
     ]
    },
    {
     "name": "stderr",
     "output_type": "stream",
     "text": [
      "[Parallel(n_jobs=-1)]: Using backend LokyBackend with 2 concurrent workers.\n",
      "[Parallel(n_jobs=-1)]: Done   5 out of   5 | elapsed:    4.1s finished\n",
      "D:\\MUTHIA\\Anaconda\\envs\\jcopml\\lib\\site-packages\\skopt\\optimizer\\optimizer.py:409: UserWarning: The objective has been evaluated at this point before.\n",
      "  warnings.warn(\"The objective has been evaluated \"\n"
     ]
    },
    {
     "name": "stdout",
     "output_type": "stream",
     "text": [
      "Fitting 5 folds for each of 1 candidates, totalling 5 fits\n"
     ]
    },
    {
     "name": "stderr",
     "output_type": "stream",
     "text": [
      "[Parallel(n_jobs=-1)]: Using backend LokyBackend with 2 concurrent workers.\n",
      "[Parallel(n_jobs=-1)]: Done   5 out of   5 | elapsed:    3.5s finished\n"
     ]
    },
    {
     "name": "stdout",
     "output_type": "stream",
     "text": [
      "Fitting 5 folds for each of 1 candidates, totalling 5 fits\n"
     ]
    },
    {
     "name": "stderr",
     "output_type": "stream",
     "text": [
      "[Parallel(n_jobs=-1)]: Using backend LokyBackend with 2 concurrent workers.\n",
      "[Parallel(n_jobs=-1)]: Done   5 out of   5 | elapsed:    3.9s finished\n",
      "D:\\MUTHIA\\Anaconda\\envs\\jcopml\\lib\\site-packages\\skopt\\optimizer\\optimizer.py:409: UserWarning: The objective has been evaluated at this point before.\n",
      "  warnings.warn(\"The objective has been evaluated \"\n"
     ]
    },
    {
     "name": "stdout",
     "output_type": "stream",
     "text": [
      "Fitting 5 folds for each of 1 candidates, totalling 5 fits\n"
     ]
    },
    {
     "name": "stderr",
     "output_type": "stream",
     "text": [
      "[Parallel(n_jobs=-1)]: Using backend LokyBackend with 2 concurrent workers.\n",
      "[Parallel(n_jobs=-1)]: Done   5 out of   5 | elapsed:    5.3s finished\n"
     ]
    },
    {
     "name": "stdout",
     "output_type": "stream",
     "text": [
      "Fitting 5 folds for each of 1 candidates, totalling 5 fits\n"
     ]
    },
    {
     "name": "stderr",
     "output_type": "stream",
     "text": [
      "[Parallel(n_jobs=-1)]: Using backend LokyBackend with 2 concurrent workers.\n",
      "[Parallel(n_jobs=-1)]: Done   5 out of   5 | elapsed:    4.2s finished\n",
      "D:\\MUTHIA\\Anaconda\\envs\\jcopml\\lib\\site-packages\\skopt\\optimizer\\optimizer.py:409: UserWarning: The objective has been evaluated at this point before.\n",
      "  warnings.warn(\"The objective has been evaluated \"\n"
     ]
    },
    {
     "name": "stdout",
     "output_type": "stream",
     "text": [
      "Fitting 5 folds for each of 1 candidates, totalling 5 fits\n"
     ]
    },
    {
     "name": "stderr",
     "output_type": "stream",
     "text": [
      "[Parallel(n_jobs=-1)]: Using backend LokyBackend with 2 concurrent workers.\n",
      "[Parallel(n_jobs=-1)]: Done   5 out of   5 | elapsed:    3.5s finished\n"
     ]
    },
    {
     "name": "stdout",
     "output_type": "stream",
     "text": [
      "Fitting 5 folds for each of 1 candidates, totalling 5 fits\n"
     ]
    },
    {
     "name": "stderr",
     "output_type": "stream",
     "text": [
      "[Parallel(n_jobs=-1)]: Using backend LokyBackend with 2 concurrent workers.\n",
      "[Parallel(n_jobs=-1)]: Done   5 out of   5 | elapsed:    3.4s finished\n",
      "D:\\MUTHIA\\Anaconda\\envs\\jcopml\\lib\\site-packages\\skopt\\optimizer\\optimizer.py:409: UserWarning: The objective has been evaluated at this point before.\n",
      "  warnings.warn(\"The objective has been evaluated \"\n"
     ]
    },
    {
     "name": "stdout",
     "output_type": "stream",
     "text": [
      "Fitting 5 folds for each of 1 candidates, totalling 5 fits\n"
     ]
    },
    {
     "name": "stderr",
     "output_type": "stream",
     "text": [
      "[Parallel(n_jobs=-1)]: Using backend LokyBackend with 2 concurrent workers.\n",
      "[Parallel(n_jobs=-1)]: Done   5 out of   5 | elapsed:    5.6s finished\n",
      "D:\\MUTHIA\\Anaconda\\envs\\jcopml\\lib\\site-packages\\skopt\\optimizer\\optimizer.py:409: UserWarning: The objective has been evaluated at this point before.\n",
      "  warnings.warn(\"The objective has been evaluated \"\n"
     ]
    },
    {
     "name": "stdout",
     "output_type": "stream",
     "text": [
      "Fitting 5 folds for each of 1 candidates, totalling 5 fits\n"
     ]
    },
    {
     "name": "stderr",
     "output_type": "stream",
     "text": [
      "[Parallel(n_jobs=-1)]: Using backend LokyBackend with 2 concurrent workers.\n",
      "[Parallel(n_jobs=-1)]: Done   5 out of   5 | elapsed:    3.7s finished\n"
     ]
    },
    {
     "name": "stdout",
     "output_type": "stream",
     "text": [
      "Fitting 5 folds for each of 1 candidates, totalling 5 fits\n"
     ]
    },
    {
     "name": "stderr",
     "output_type": "stream",
     "text": [
      "[Parallel(n_jobs=-1)]: Using backend LokyBackend with 2 concurrent workers.\n",
      "[Parallel(n_jobs=-1)]: Done   5 out of   5 | elapsed:    5.5s finished\n"
     ]
    },
    {
     "name": "stdout",
     "output_type": "stream",
     "text": [
      "Fitting 5 folds for each of 1 candidates, totalling 5 fits\n"
     ]
    },
    {
     "name": "stderr",
     "output_type": "stream",
     "text": [
      "[Parallel(n_jobs=-1)]: Using backend LokyBackend with 2 concurrent workers.\n",
      "[Parallel(n_jobs=-1)]: Done   5 out of   5 | elapsed:    4.6s finished\n"
     ]
    },
    {
     "name": "stdout",
     "output_type": "stream",
     "text": [
      "Fitting 5 folds for each of 1 candidates, totalling 5 fits\n"
     ]
    },
    {
     "name": "stderr",
     "output_type": "stream",
     "text": [
      "[Parallel(n_jobs=-1)]: Using backend LokyBackend with 2 concurrent workers.\n",
      "[Parallel(n_jobs=-1)]: Done   5 out of   5 | elapsed:    4.4s finished\n"
     ]
    },
    {
     "name": "stdout",
     "output_type": "stream",
     "text": [
      "Fitting 5 folds for each of 1 candidates, totalling 5 fits\n"
     ]
    },
    {
     "name": "stderr",
     "output_type": "stream",
     "text": [
      "[Parallel(n_jobs=-1)]: Using backend LokyBackend with 2 concurrent workers.\n",
      "[Parallel(n_jobs=-1)]: Done   5 out of   5 | elapsed:    2.2s finished\n"
     ]
    },
    {
     "name": "stdout",
     "output_type": "stream",
     "text": [
      "Fitting 5 folds for each of 1 candidates, totalling 5 fits\n"
     ]
    },
    {
     "name": "stderr",
     "output_type": "stream",
     "text": [
      "[Parallel(n_jobs=-1)]: Using backend LokyBackend with 2 concurrent workers.\n",
      "[Parallel(n_jobs=-1)]: Done   5 out of   5 | elapsed:    3.2s finished\n"
     ]
    },
    {
     "name": "stdout",
     "output_type": "stream",
     "text": [
      "Fitting 5 folds for each of 1 candidates, totalling 5 fits\n"
     ]
    },
    {
     "name": "stderr",
     "output_type": "stream",
     "text": [
      "[Parallel(n_jobs=-1)]: Using backend LokyBackend with 2 concurrent workers.\n",
      "[Parallel(n_jobs=-1)]: Done   5 out of   5 | elapsed:    2.5s finished\n"
     ]
    },
    {
     "name": "stdout",
     "output_type": "stream",
     "text": [
      "Fitting 5 folds for each of 1 candidates, totalling 5 fits\n"
     ]
    },
    {
     "name": "stderr",
     "output_type": "stream",
     "text": [
      "[Parallel(n_jobs=-1)]: Using backend LokyBackend with 2 concurrent workers.\n",
      "[Parallel(n_jobs=-1)]: Done   5 out of   5 | elapsed:    3.1s finished\n"
     ]
    },
    {
     "name": "stdout",
     "output_type": "stream",
     "text": [
      "Fitting 5 folds for each of 1 candidates, totalling 5 fits\n"
     ]
    },
    {
     "name": "stderr",
     "output_type": "stream",
     "text": [
      "[Parallel(n_jobs=-1)]: Using backend LokyBackend with 2 concurrent workers.\n",
      "[Parallel(n_jobs=-1)]: Done   5 out of   5 | elapsed:    2.8s finished\n",
      "D:\\MUTHIA\\Anaconda\\envs\\jcopml\\lib\\site-packages\\skopt\\optimizer\\optimizer.py:409: UserWarning: The objective has been evaluated at this point before.\n",
      "  warnings.warn(\"The objective has been evaluated \"\n"
     ]
    },
    {
     "name": "stdout",
     "output_type": "stream",
     "text": [
      "Fitting 5 folds for each of 1 candidates, totalling 5 fits\n"
     ]
    },
    {
     "name": "stderr",
     "output_type": "stream",
     "text": [
      "[Parallel(n_jobs=-1)]: Using backend LokyBackend with 2 concurrent workers.\n",
      "[Parallel(n_jobs=-1)]: Done   5 out of   5 | elapsed:    2.8s finished\n"
     ]
    },
    {
     "name": "stdout",
     "output_type": "stream",
     "text": [
      "Fitting 5 folds for each of 1 candidates, totalling 5 fits\n"
     ]
    },
    {
     "name": "stderr",
     "output_type": "stream",
     "text": [
      "[Parallel(n_jobs=-1)]: Using backend LokyBackend with 2 concurrent workers.\n",
      "[Parallel(n_jobs=-1)]: Done   5 out of   5 | elapsed:    2.3s finished\n"
     ]
    },
    {
     "name": "stdout",
     "output_type": "stream",
     "text": [
      "Fitting 5 folds for each of 1 candidates, totalling 5 fits\n"
     ]
    },
    {
     "name": "stderr",
     "output_type": "stream",
     "text": [
      "[Parallel(n_jobs=-1)]: Using backend LokyBackend with 2 concurrent workers.\n",
      "[Parallel(n_jobs=-1)]: Done   5 out of   5 | elapsed:    3.9s finished\n"
     ]
    },
    {
     "name": "stdout",
     "output_type": "stream",
     "text": [
      "Fitting 5 folds for each of 1 candidates, totalling 5 fits\n"
     ]
    },
    {
     "name": "stderr",
     "output_type": "stream",
     "text": [
      "[Parallel(n_jobs=-1)]: Using backend LokyBackend with 2 concurrent workers.\n",
      "[Parallel(n_jobs=-1)]: Done   5 out of   5 | elapsed:    1.6s finished\n",
      "D:\\MUTHIA\\Anaconda\\envs\\jcopml\\lib\\site-packages\\skopt\\optimizer\\optimizer.py:409: UserWarning: The objective has been evaluated at this point before.\n",
      "  warnings.warn(\"The objective has been evaluated \"\n"
     ]
    },
    {
     "name": "stdout",
     "output_type": "stream",
     "text": [
      "Fitting 5 folds for each of 1 candidates, totalling 5 fits\n"
     ]
    },
    {
     "name": "stderr",
     "output_type": "stream",
     "text": [
      "[Parallel(n_jobs=-1)]: Using backend LokyBackend with 2 concurrent workers.\n",
      "[Parallel(n_jobs=-1)]: Done   5 out of   5 | elapsed:    2.9s finished\n"
     ]
    },
    {
     "name": "stdout",
     "output_type": "stream",
     "text": [
      "Fitting 5 folds for each of 1 candidates, totalling 5 fits\n"
     ]
    },
    {
     "name": "stderr",
     "output_type": "stream",
     "text": [
      "[Parallel(n_jobs=-1)]: Using backend LokyBackend with 2 concurrent workers.\n",
      "[Parallel(n_jobs=-1)]: Done   5 out of   5 | elapsed:    2.1s finished\n"
     ]
    },
    {
     "name": "stdout",
     "output_type": "stream",
     "text": [
      "Fitting 5 folds for each of 1 candidates, totalling 5 fits\n"
     ]
    },
    {
     "name": "stderr",
     "output_type": "stream",
     "text": [
      "[Parallel(n_jobs=-1)]: Using backend LokyBackend with 2 concurrent workers.\n",
      "[Parallel(n_jobs=-1)]: Done   5 out of   5 | elapsed:    2.5s finished\n"
     ]
    },
    {
     "name": "stdout",
     "output_type": "stream",
     "text": [
      "Fitting 5 folds for each of 1 candidates, totalling 5 fits\n"
     ]
    },
    {
     "name": "stderr",
     "output_type": "stream",
     "text": [
      "[Parallel(n_jobs=-1)]: Using backend LokyBackend with 2 concurrent workers.\n",
      "[Parallel(n_jobs=-1)]: Done   5 out of   5 | elapsed:    1.8s finished\n",
      "D:\\MUTHIA\\Anaconda\\envs\\jcopml\\lib\\site-packages\\skopt\\optimizer\\optimizer.py:409: UserWarning: The objective has been evaluated at this point before.\n",
      "  warnings.warn(\"The objective has been evaluated \"\n"
     ]
    },
    {
     "name": "stdout",
     "output_type": "stream",
     "text": [
      "Fitting 5 folds for each of 1 candidates, totalling 5 fits\n"
     ]
    },
    {
     "name": "stderr",
     "output_type": "stream",
     "text": [
      "[Parallel(n_jobs=-1)]: Using backend LokyBackend with 2 concurrent workers.\n",
      "[Parallel(n_jobs=-1)]: Done   5 out of   5 | elapsed:    2.3s finished\n"
     ]
    },
    {
     "name": "stdout",
     "output_type": "stream",
     "text": [
      "Fitting 5 folds for each of 1 candidates, totalling 5 fits\n"
     ]
    },
    {
     "name": "stderr",
     "output_type": "stream",
     "text": [
      "[Parallel(n_jobs=-1)]: Using backend LokyBackend with 2 concurrent workers.\n",
      "[Parallel(n_jobs=-1)]: Done   5 out of   5 | elapsed:    2.4s finished\n"
     ]
    },
    {
     "name": "stdout",
     "output_type": "stream",
     "text": [
      "Fitting 5 folds for each of 1 candidates, totalling 5 fits\n"
     ]
    },
    {
     "name": "stderr",
     "output_type": "stream",
     "text": [
      "[Parallel(n_jobs=-1)]: Using backend LokyBackend with 2 concurrent workers.\n",
      "[Parallel(n_jobs=-1)]: Done   5 out of   5 | elapsed:    2.3s finished\n"
     ]
    },
    {
     "name": "stdout",
     "output_type": "stream",
     "text": [
      "Fitting 5 folds for each of 1 candidates, totalling 5 fits\n"
     ]
    },
    {
     "name": "stderr",
     "output_type": "stream",
     "text": [
      "[Parallel(n_jobs=-1)]: Using backend LokyBackend with 2 concurrent workers.\n",
      "[Parallel(n_jobs=-1)]: Done   5 out of   5 | elapsed:    2.4s finished\n"
     ]
    },
    {
     "name": "stdout",
     "output_type": "stream",
     "text": [
      "Fitting 5 folds for each of 1 candidates, totalling 5 fits\n"
     ]
    },
    {
     "name": "stderr",
     "output_type": "stream",
     "text": [
      "[Parallel(n_jobs=-1)]: Using backend LokyBackend with 2 concurrent workers.\n",
      "[Parallel(n_jobs=-1)]: Done   5 out of   5 | elapsed:    1.4s finished\n",
      "D:\\MUTHIA\\Anaconda\\envs\\jcopml\\lib\\site-packages\\skopt\\optimizer\\optimizer.py:409: UserWarning: The objective has been evaluated at this point before.\n",
      "  warnings.warn(\"The objective has been evaluated \"\n"
     ]
    },
    {
     "name": "stdout",
     "output_type": "stream",
     "text": [
      "Fitting 5 folds for each of 1 candidates, totalling 5 fits\n"
     ]
    },
    {
     "name": "stderr",
     "output_type": "stream",
     "text": [
      "[Parallel(n_jobs=-1)]: Using backend LokyBackend with 2 concurrent workers.\n",
      "[Parallel(n_jobs=-1)]: Done   5 out of   5 | elapsed:    2.4s finished\n",
      "D:\\MUTHIA\\Anaconda\\envs\\jcopml\\lib\\site-packages\\sklearn\\utils\\validation.py:933: FutureWarning: Passing attributes to check_is_fitted is deprecated and will be removed in 0.23. The attributes argument is ignored.\n",
      "  \"argument is ignored.\", FutureWarning)\n",
      "D:\\MUTHIA\\Anaconda\\envs\\jcopml\\lib\\site-packages\\sklearn\\utils\\validation.py:933: FutureWarning: Passing attributes to check_is_fitted is deprecated and will be removed in 0.23. The attributes argument is ignored.\n",
      "  \"argument is ignored.\", FutureWarning)\n",
      "D:\\MUTHIA\\Anaconda\\envs\\jcopml\\lib\\site-packages\\sklearn\\utils\\validation.py:933: FutureWarning: Passing attributes to check_is_fitted is deprecated and will be removed in 0.23. The attributes argument is ignored.\n",
      "  \"argument is ignored.\", FutureWarning)\n"
     ]
    },
    {
     "name": "stdout",
     "output_type": "stream",
     "text": [
      "OrderedDict([('algo__max_depth', 64), ('algo__max_features', 0.9454327638424945), ('algo__min_samples_leaf', 4), ('algo__n_estimators', 119)])\n",
      "0.9767981438515081 0.9605568445475638 0.9351851851851852\n"
     ]
    }
   ],
   "source": [
    "from skopt import BayesSearchCV\n",
    "from jcopml.tuning import bayes_search_params as bsp\n",
    "\n",
    "model = BayesSearchCV(pipeline, bsp.rf_params, n_iter=100, n_jobs=-1, verbose=1, random_state=42)\n",
    "model.fit(X_train, y_train)\n",
    "\n",
    "print(model.best_params_)\n",
    "print(model.score(X_train, y_train), model.best_score_, model.score(X_test, y_test))"
   ]
  },
  {
   "cell_type": "code",
   "execution_count": null,
   "metadata": {},
   "outputs": [],
   "source": []
  },
  {
   "cell_type": "markdown",
   "metadata": {},
   "source": [
    "# Calculating Feature Importance"
   ]
  },
  {
   "cell_type": "code",
   "execution_count": 16,
   "metadata": {},
   "outputs": [],
   "source": [
    "from jcopml.feature_importance import mean_loss_decrease"
   ]
  },
  {
   "cell_type": "code",
   "execution_count": 17,
   "metadata": {},
   "outputs": [
    {
     "data": {
      "text/html": [
       "<div>\n",
       "<style scoped>\n",
       "    .dataframe tbody tr th:only-of-type {\n",
       "        vertical-align: middle;\n",
       "    }\n",
       "\n",
       "    .dataframe tbody tr th {\n",
       "        vertical-align: top;\n",
       "    }\n",
       "\n",
       "    .dataframe thead th {\n",
       "        text-align: right;\n",
       "    }\n",
       "</style>\n",
       "<table border=\"1\" class=\"dataframe\">\n",
       "  <thead>\n",
       "    <tr style=\"text-align: right;\">\n",
       "      <th></th>\n",
       "      <th>feature</th>\n",
       "      <th>importance</th>\n",
       "    </tr>\n",
       "  </thead>\n",
       "  <tbody>\n",
       "    <tr>\n",
       "      <th>14</th>\n",
       "      <td>aSqrt_std</td>\n",
       "      <td>0.249702</td>\n",
       "    </tr>\n",
       "    <tr>\n",
       "      <th>15</th>\n",
       "      <td>gX_std</td>\n",
       "      <td>0.133177</td>\n",
       "    </tr>\n",
       "    <tr>\n",
       "      <th>17</th>\n",
       "      <td>gZ_std</td>\n",
       "      <td>0.126706</td>\n",
       "    </tr>\n",
       "    <tr>\n",
       "      <th>16</th>\n",
       "      <td>gY_std</td>\n",
       "      <td>0.097039</td>\n",
       "    </tr>\n",
       "    <tr>\n",
       "      <th>3</th>\n",
       "      <td>aSqrt</td>\n",
       "      <td>0.060529</td>\n",
       "    </tr>\n",
       "    <tr>\n",
       "      <th>5</th>\n",
       "      <td>gY</td>\n",
       "      <td>0.052141</td>\n",
       "    </tr>\n",
       "    <tr>\n",
       "      <th>4</th>\n",
       "      <td>gX</td>\n",
       "      <td>0.045370</td>\n",
       "    </tr>\n",
       "    <tr>\n",
       "      <th>6</th>\n",
       "      <td>gZ</td>\n",
       "      <td>0.026943</td>\n",
       "    </tr>\n",
       "    <tr>\n",
       "      <th>13</th>\n",
       "      <td>aZ_std</td>\n",
       "      <td>0.026711</td>\n",
       "    </tr>\n",
       "    <tr>\n",
       "      <th>0</th>\n",
       "      <td>aX</td>\n",
       "      <td>0.022349</td>\n",
       "    </tr>\n",
       "  </tbody>\n",
       "</table>\n",
       "</div>"
      ],
      "text/plain": [
       "      feature  importance\n",
       "14  aSqrt_std    0.249702\n",
       "15     gX_std    0.133177\n",
       "17     gZ_std    0.126706\n",
       "16     gY_std    0.097039\n",
       "3       aSqrt    0.060529\n",
       "5          gY    0.052141\n",
       "4          gX    0.045370\n",
       "6          gZ    0.026943\n",
       "13     aZ_std    0.026711\n",
       "0          aX    0.022349"
      ]
     },
     "execution_count": 17,
     "metadata": {},
     "output_type": "execute_result"
    },
    {
     "data": {
      "image/png": "[encoded data removed]",
      "text/plain": [
       "<Figure size 1080x360 with 1 Axes>"
      ]
     },
     "metadata": {
      "needs_background": "light"
     },
     "output_type": "display_data"
    }
   ],
   "source": [
    "mean_loss_decrease(X_train, model, plot=True, topk=10)"
   ]
  }
 ],
 "metadata": {
  "kernelspec": {
   "display_name": "Python [conda env:jcopml]",
   "language": "python",
   "name": "conda-env-jcopml-py"
  },
  "language_info": {
   "codemirror_mode": {
    "name": "ipython",
    "version": 3
   },
   "file_extension": ".py",
   "mimetype": "text/x-python",
   "name": "python",
   "nbconvert_exporter": "python",
   "pygments_lexer": "ipython3",
   "version": "3.7.6"
  }
 },
 "nbformat": 4,
 "nbformat_minor": 4
}
